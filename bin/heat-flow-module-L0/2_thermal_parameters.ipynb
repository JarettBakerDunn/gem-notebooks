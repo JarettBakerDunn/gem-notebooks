{
 "cells": [
  {
   "cell_type": "markdown",
   "metadata": {
    "id": "OnLo79vfr47q",
    "tags": []
   },
   "source": [
    "## Thermal parameters\n",
    "\n",
    "Heat flow equations (Eq. 4 and 5 in the previous notebook) indicate that the Earth’s geothermal gradient is controlled by the thermal conductivity ($k$) and the volumetric heat production ($A$) of rocks.\n",
    "\n",
    "**Thermal conductivity (k)** of most rocks at crustal conditions varies inversely with temperature and directly with pressure (or depth):\n",
    "\n",
    "$$ k(T, z) = \\frac{k_{0}(1+cz)}{1+bT} \\tag{6}$$\n",
    "\n",
    "where T ($^oC$) is temperature, $b$ and $c$ are constants, and $k_{0}$ is conductivity measured at 0°C and 1 atm (101325 Pa).\n",
    "\n",
    "**Volumetric heat production (A)** in the crust and mantle is due to the radioactive decay of $^{235}U$, $^{238}U$, $^{232}Th$, and $^{40}K$ and constitute a substantial part of the heat lost through the Earth’s surface.\n",
    "\n",
    "The total heat production ($A_{0}$) is related to the heat generation rates of the individual radioactive elements:\n",
    "\n",
    "$$ A_{0} = C^{U} A^{U} + C^{Th} A^{Th} + C^{K} A^{K} \\tag{7}$$\n",
    "\n",
    "where C is the concentration of the elements and A their respective rate of heat release.\n",
    "\n",
    "The concentration (C) of a radioactive isotope at time (t) measured backward from the present is related to present day concentration $(C_{0})$ and the half-life of the isotope $(\\tau_{1/2})$:\n",
    "\n",
    "$$ C = C_{0} \\exp{\\left ( \\frac{t\\ln (2)}{\\tau_{1/2}} \\right )} \\tag{8}$$"
   ]
  },
  {
   "cell_type": "markdown",
   "metadata": {
    "id": "872QDpzFso-0"
   },
   "source": [
    "## Radioactive heat generation\n",
    "\n",
    "### Heat production in mantle\n",
    "Using eq (8), we can compute the heat production for the dominant radioactive elements based on present day mean mantle concentrations (Table 1).\n",
    "\n",
    "**Table 1:** Rates of heat production, based on present day mean mantle concentrations, and half-lives of the dominant radioactive isotope in the Earth’s interior (Table 4.2;  [Turcotte and Schubert 2014](https://doi.org/10.1017/CBO9780511843877)).\n",
    "\n",
    "| Isotope  | $A_{0}(W\\cdot kg^{-1})$ | $\\tau_{1/2} (yr)$ | $C_{0} (kg\\cdot kg^{-1})$ |\n",
    "|:-------- |:------------------:|:-----------------:|:--------------------:|\n",
    "| $^{238}U$ | $9.46 \\times 10^{-5}$ | $4.47 \\times 10^{9}$ | $30.8 \\times 10^{-9}$ |\n",
    "| $^{235}U$ | $5.69 \\times 10^{-4}$ | $7.04 \\times 10^{8}$ | $0.22 \\times 10^{-9}$ |\n",
    "| $^{232}Th$ | $2.64 \\times 10^{-5}$ | $1.40 \\times 10^{10}$ | $124 \\times 10^{-9}$ |\n",
    "| $^{40}K$ | $2.92 \\times 10^{-5}$ | $1.25 \\times 10^{9}$ | $36.9 \\times 10^{-5}$ |\n",
    "\n",
    "\n",
    "### Heat production in crust\n",
    "\n",
    "Unlike the mantle (Table 1), the concentrations of heat-producing elements in the crust vary considerably depending on the crustal composition.\n",
    "\n",
    "**Table 2:** Typical concentrations of the heat-producing elements in several rock types (Table 4.3;  [Turcotte and Schubert 2014](https://doi.org/10.1017/CBO9780511843877)).\n",
    "\n",
    "| Rock type | U (ppm) | Th (ppm) | K (%) |\n",
    "|:----------|:-------:|:--------:|:-----:|\n",
    "| Reference underpleted (fertile) mantle | 0.031 | 0.124 | 0.031 |\n",
    "| Depleted peridotite | 0.001 | 0.004 | 0.003 |\n",
    "| Tholeiitic basalt | 0.07 | 0.19 | 0.088 |\n",
    "| Granite | 4.7 | 20 | 4.2 |\n",
    "| Shale | 3.7 | 12 | 2.7 |\n",
    "| Average continental crust | 1.42 | 5.6 | 1.43 |\n",
    "| Chondritic meteorites | 0.008 | 0.029 | 0.056 |\n",
    "\n",
    "\n",
    "For the upper crust, an exponentially decreasing heat production is used $A(z) = A_{0} \\exp{\\left (\\frac{-z}{D} \\right )}$, which satisfies the linear heat flow-heat production relationship:\n",
    "\n",
    "$$ q_{0} = q_{r} + DA_{0} \\tag{9}$$\n",
    "\n",
    "where $q_{0}$ is surface heat flow, $q_{r}$ is reduced (mantle) heat flow, and $A_{0}$ is surface heat generation. D is a parameter with dimensions of length and characterizes the depth distribution A(z)."
   ]
  },
  {
   "cell_type": "markdown",
   "metadata": {},
   "source": [
    " &nbsp;<div style=\"text-align: right\">  \n",
    "    &rarr; <b>NEXT: [Thermal conductivity profile](./3_thermal_conductivity_from_geotherms.ipynb) </b> <a href=\"\"></a> &nbsp;&nbsp;\n",
    "     <img src=\"../assets/education-gem-notebooks_icon.png\" alt=\"icon\"  style=\"width:4%\">\n",
    "  </div>"
   ]
  }
 ],
 "metadata": {
  "colab": {
   "provenance": []
  },
  "kernelspec": {
   "display_name": "Python 3",
   "language": "python",
   "name": "python3"
  },
  "language_info": {
   "codemirror_mode": {
    "name": "ipython",
    "version": 3
   },
   "file_extension": ".py",
   "mimetype": "text/x-python",
   "name": "python",
   "nbconvert_exporter": "python",
   "pygments_lexer": "ipython3",
   "version": "3.8.5"
  }
 },
 "nbformat": 4,
 "nbformat_minor": 4
}
