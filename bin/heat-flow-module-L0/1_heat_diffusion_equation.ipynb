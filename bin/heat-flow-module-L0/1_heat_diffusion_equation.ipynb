{
 "cells": [
  {
   "cell_type": "markdown",
   "metadata": {
    "id": "xXceAade8YTE"
   },
   "source": [
    "## Conductive heat transfer in lithosphere\n",
    "\n",
    "The governing one-dimensional heat diffusion equation in an isotropic and homeogenous medium is:\n",
    "\n",
    "\n",
    "$$ \\frac{\\partial^{2} T}{\\partial z^{2}} + \\frac{A}{k} = \\frac{1}{\\kappa} \\frac{\\partial T}{\\partial t} \\tag{1}$$\n",
    "\n",
    "Here,\n",
    "* $z (m)$ represents the vertical heat transfer, i.e., from deeper mantle towards the surface\n",
    "* $T (K)$ is temperature,\n",
    "* $t(s)$ is time,\n",
    "* $A$ $(W\\cdot kg^{-1})$ is volumetric heat production\n",
    "* $k$ $(W\\cdot m^{-1}\\cdot K^{-1})$ is thermal conductivity\n",
    "* $\\kappa $ ($m^{2} \\cdot s^{-1}$) is the thermal diffusivity  of the medium $= k/\\rho c$ with density $\\rho$ $(kg\\cdot m^{-3})$, specific heat capacity c $\\cdot K^{-1})$m, and thermal conductivity $K$\n",
    "\n",
    "In steady state, the above equation can be simplied to:\n",
    "\n",
    "$$ \\frac{\\partial^{2}T}{\\partial z^{2}} = - \\frac{A}{k} \\tag{2}$$\n",
    "\n",
    "The solution of equation (2) in a layer of constant heat generation and constant thermal conductivity is:\n",
    "\n",
    "$$ T(z) = T_{0} + \\frac{q_{0}}{k} z - \\frac{Az^{2}}{2k} \\tag{3}$$\n",
    "\n",
    "where $T_{0}$ and $q_{0}$ ($W\\cdot m^{-2}$) are the temperature and heat flow respectively at the top of the layer.\n",
    "\n",
    "If the layer has thickness z, then the temperature at, and heat flow through, the bottom of the layer $(T_{b}, q_{b})$ can be expressed in terms of the temperature and heat flow at the top of the layer $(T_{0}, q_{0})$ and properties $(A, k)$ of the layer:\n",
    "\n",
    "$$ T_{b} = T_{0} + \\frac{q_{0}}{k} z - \\frac{A z^{2}}{2k} \\tag{4}$$\n",
    "\n",
    "$$ q_{b} = q_{0} - A z \\tag{5}$$\n",
    "\n",
    "Equations (4) and (5) can be applied to successive layers, resetting $T_{0}$ and  $q_{0}$ at the top of each new layer with the values $T_{b}$ and  $q_{b}$ solved for the bottom of the previous layer."
   ]
  },
  {
   "cell_type": "markdown",
   "metadata": {
    "id": "Qiu9EuBhGlbG"
   },
   "source": [
    " &nbsp;<div style=\"text-align: right\">    \n",
    "     &rarr;   <b>NEXT: [Thermal parameters](./2_thermal_parameters.ipynb) </b> <a href=\"\"></a> &nbsp;&nbsp;\n",
    "<img src=\"../assets/education-gem-notebooks_icon.png\" alt=\"icon\"  style=\"width:4%\">\n",
    "    </div>\n",
    "---\n",
    "\n",
    "## Further Reading\n",
    "\n",
    "The derivation of the heat diffusion equation can be found [here](https://cecs.wright.edu/~sthomas/htchapter02.pdf)\n"
   ]
  },
  {
   "cell_type": "code",
   "execution_count": null,
   "metadata": {},
   "outputs": [],
   "source": []
  }
 ],
 "metadata": {
  "colab": {
   "provenance": []
  },
  "kernelspec": {
   "display_name": "Python 3",
   "language": "python",
   "name": "python3"
  },
  "language_info": {
   "codemirror_mode": {
    "name": "ipython",
    "version": 3
   },
   "file_extension": ".py",
   "mimetype": "text/x-python",
   "name": "python",
   "nbconvert_exporter": "python",
   "pygments_lexer": "ipython3",
   "version": "3.8.5"
  }
 },
 "nbformat": 4,
 "nbformat_minor": 4
}
