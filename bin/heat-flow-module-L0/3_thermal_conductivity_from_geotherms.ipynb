{
 "cells": [
  {
   "cell_type": "markdown",
   "metadata": {
    "id": "hQtrYx9cCYw2",
    "tags": []
   },
   "source": [
    "## Thermal conductivity\n",
    "\n",
    "Thermal conductivity varies with depth (or pressure) and temperature according to equation (6), introduced previously.  \n",
    "$$ k(T, z) = \\frac{k_{0}(1+cz)}{1+bT} \\tag{6}$$\n",
    "To compute thermal conductivity, first we need to get the temperature distribution with depth, i.e., the geothermal gradient.\n",
    "\n",
    "\n",
    "### Geothermal Gradient\n",
    "Let's assume two geothermal gradients $\\nabla T_{A}$ and $\\nabla T_{B}$ (Table 4) for surface heat flows $q_{0}^{A} = 40 mW\\cdot m^{-2}$ and $q_{0}^{B} = 90 mW\\cdot m^{-2}$, respectively ([Chapman 1986](https://doi.org/10.1144/GSL.SP.1986.024.01.07)).\n",
    "\n",
    "\n",
    "**Table 3:** Geothermal gradients $\\nabla T_{A}$ and $\\nabla T_{B}$ ([Chapman 1986](https://doi.org/10.1144/GSL.SP.1986.024.01.07)).\n",
    "\n",
    "\n",
    "| z (km) | P (MPa) | T_A $(^o C)$ | T_B $(^o C)$ |\n",
    "|:------|:------|:--------|:------|\n",
    "|0.00|\t0.00|\t0.00|\t0.00|\n",
    "|2.50|\t70.87|\t28.51|\t68.23|\n",
    "|5.00|\t143.30|\t61.10|\t146.64|\n",
    ".\n",
    ".\n",
    ".\n",
    "|35.00|\t1012.45|342.16|\t896.13|\n",
    "|37.50|\t1082.55|358.45|\t940.94|\n",
    "|40.00|\t1154.99|374.75|\t983.71|\n",
    "\n",
    "The geothermal gradient data is saved as a .csv file under files (files/geotherms.csv).\n",
    "Using this data, we will:\n",
    "1. import the data into a DataFrame,\n",
    "2. interpolate the data, and\n",
    "3. plot the geothermal gradient."
   ]
  },
  {
   "cell_type": "markdown",
   "metadata": {
    "id": "3uGGlQuJVEf8"
   },
   "source": [
    "> A useful resource to understand the basics of programming and plotting with python can be found here  : https://swcarpentry.github.io/python-novice-gapminder/"
   ]
  },
  {
   "cell_type": "markdown",
   "metadata": {
    "id": "fg7faW-jPmlQ"
   },
   "source": [
    "### Plotting the Geothermal Gradient"
   ]
  },
  {
   "cell_type": "code",
   "execution_count": 1,
   "metadata": {
    "colab": {
     "base_uri": "https://localhost:8080/",
     "height": 206
    },
    "executionInfo": {
     "elapsed": 844,
     "status": "ok",
     "timestamp": 1726763949204,
     "user": {
      "displayName": "Arushi Saxena",
      "userId": "02841886933914528914"
     },
     "user_tz": 420
    },
    "id": "GK_EuD2XD1t1",
    "outputId": "20b8adae-05cd-4513-9f51-fcb35bb4ec3f"
   },
   "outputs": [
    {
     "ename": "ImportError",
     "evalue": "cannot import name 'find_stack_level' from 'pandas.util._exceptions' (/apps/share64/debian10/anaconda/anaconda-7/lib/python3.8/site-packages/pandas/util/_exceptions.py)",
     "output_type": "error",
     "traceback": [
      "\u001b[0;31m---------------------------------------------------------------------------\u001b[0m",
      "\u001b[0;31mImportError\u001b[0m                               Traceback (most recent call last)",
      "\u001b[0;32m<ipython-input-1-f4fc7844110e>\u001b[0m in \u001b[0;36m<module>\u001b[0;34m\u001b[0m\n\u001b[1;32m      1\u001b[0m \u001b[0;32mimport\u001b[0m \u001b[0mnumpy\u001b[0m \u001b[0;32mas\u001b[0m \u001b[0mnp\u001b[0m\u001b[0;34m\u001b[0m\u001b[0;34m\u001b[0m\u001b[0m\n\u001b[1;32m      2\u001b[0m \u001b[0;32mimport\u001b[0m \u001b[0mmatplotlib\u001b[0m\u001b[0;34m.\u001b[0m\u001b[0mpyplot\u001b[0m \u001b[0;32mas\u001b[0m \u001b[0mplt\u001b[0m\u001b[0;34m\u001b[0m\u001b[0;34m\u001b[0m\u001b[0m\n\u001b[0;32m----> 3\u001b[0;31m \u001b[0;32mimport\u001b[0m \u001b[0mpandas\u001b[0m \u001b[0;32mas\u001b[0m \u001b[0mpd\u001b[0m\u001b[0;34m\u001b[0m\u001b[0;34m\u001b[0m\u001b[0m\n\u001b[0m\u001b[1;32m      4\u001b[0m \u001b[0;32mfrom\u001b[0m \u001b[0mIPython\u001b[0m\u001b[0;34m.\u001b[0m\u001b[0mdisplay\u001b[0m \u001b[0;32mimport\u001b[0m \u001b[0mdisplay\u001b[0m\u001b[0;34m\u001b[0m\u001b[0;34m\u001b[0m\u001b[0m\n\u001b[1;32m      5\u001b[0m \u001b[0;34m\u001b[0m\u001b[0m\n",
      "\u001b[0;32m/apps/share64/debian10/anaconda/anaconda-7/lib/python3.8/site-packages/pandas/__init__.py\u001b[0m in \u001b[0;36m<module>\u001b[0;34m\u001b[0m\n\u001b[1;32m     53\u001b[0m \u001b[0;32mimport\u001b[0m \u001b[0mpandas\u001b[0m\u001b[0;34m.\u001b[0m\u001b[0mcore\u001b[0m\u001b[0;34m.\u001b[0m\u001b[0mconfig_init\u001b[0m\u001b[0;34m\u001b[0m\u001b[0;34m\u001b[0m\u001b[0m\n\u001b[1;32m     54\u001b[0m \u001b[0;34m\u001b[0m\u001b[0m\n\u001b[0;32m---> 55\u001b[0;31m from pandas.core.api import (\n\u001b[0m\u001b[1;32m     56\u001b[0m     \u001b[0;31m# dtype\u001b[0m\u001b[0;34m\u001b[0m\u001b[0;34m\u001b[0m\u001b[0;34m\u001b[0m\u001b[0m\n\u001b[1;32m     57\u001b[0m     \u001b[0mInt8Dtype\u001b[0m\u001b[0;34m,\u001b[0m\u001b[0;34m\u001b[0m\u001b[0;34m\u001b[0m\u001b[0m\n",
      "\u001b[0;32m/apps/share64/debian10/anaconda/anaconda-7/lib/python3.8/site-packages/pandas/core/api.py\u001b[0m in \u001b[0;36m<module>\u001b[0;34m\u001b[0m\n\u001b[1;32m     12\u001b[0m \u001b[0;32mfrom\u001b[0m \u001b[0mpandas\u001b[0m\u001b[0;34m.\u001b[0m\u001b[0mcore\u001b[0m\u001b[0;34m.\u001b[0m\u001b[0mdtypes\u001b[0m\u001b[0;34m.\u001b[0m\u001b[0mmissing\u001b[0m \u001b[0;32mimport\u001b[0m \u001b[0misna\u001b[0m\u001b[0;34m,\u001b[0m \u001b[0misnull\u001b[0m\u001b[0;34m,\u001b[0m \u001b[0mnotna\u001b[0m\u001b[0;34m,\u001b[0m \u001b[0mnotnull\u001b[0m\u001b[0;34m\u001b[0m\u001b[0;34m\u001b[0m\u001b[0m\n\u001b[1;32m     13\u001b[0m \u001b[0;34m\u001b[0m\u001b[0m\n\u001b[0;32m---> 14\u001b[0;31m \u001b[0;32mfrom\u001b[0m \u001b[0mpandas\u001b[0m\u001b[0;34m.\u001b[0m\u001b[0mcore\u001b[0m\u001b[0;34m.\u001b[0m\u001b[0malgorithms\u001b[0m \u001b[0;32mimport\u001b[0m \u001b[0mfactorize\u001b[0m\u001b[0;34m,\u001b[0m \u001b[0munique\u001b[0m\u001b[0;34m,\u001b[0m \u001b[0mvalue_counts\u001b[0m\u001b[0;34m\u001b[0m\u001b[0;34m\u001b[0m\u001b[0m\n\u001b[0m\u001b[1;32m     15\u001b[0m \u001b[0;32mfrom\u001b[0m \u001b[0mpandas\u001b[0m\u001b[0;34m.\u001b[0m\u001b[0mcore\u001b[0m\u001b[0;34m.\u001b[0m\u001b[0marrays\u001b[0m \u001b[0;32mimport\u001b[0m \u001b[0mCategorical\u001b[0m\u001b[0;34m\u001b[0m\u001b[0;34m\u001b[0m\u001b[0m\n\u001b[1;32m     16\u001b[0m \u001b[0;32mfrom\u001b[0m \u001b[0mpandas\u001b[0m\u001b[0;34m.\u001b[0m\u001b[0mcore\u001b[0m\u001b[0;34m.\u001b[0m\u001b[0marrays\u001b[0m\u001b[0;34m.\u001b[0m\u001b[0mboolean\u001b[0m \u001b[0;32mimport\u001b[0m \u001b[0mBooleanDtype\u001b[0m\u001b[0;34m\u001b[0m\u001b[0;34m\u001b[0m\u001b[0m\n",
      "\u001b[0;32m/apps/share64/debian10/anaconda/anaconda-7/lib/python3.8/site-packages/pandas/core/algorithms.py\u001b[0m in \u001b[0;36m<module>\u001b[0;34m\u001b[0m\n\u001b[1;32m     51\u001b[0m \u001b[0;32mimport\u001b[0m \u001b[0mpandas\u001b[0m\u001b[0;34m.\u001b[0m\u001b[0mcore\u001b[0m\u001b[0;34m.\u001b[0m\u001b[0mcommon\u001b[0m \u001b[0;32mas\u001b[0m \u001b[0mcom\u001b[0m\u001b[0;34m\u001b[0m\u001b[0;34m\u001b[0m\u001b[0m\n\u001b[1;32m     52\u001b[0m \u001b[0;32mfrom\u001b[0m \u001b[0mpandas\u001b[0m\u001b[0;34m.\u001b[0m\u001b[0mcore\u001b[0m\u001b[0;34m.\u001b[0m\u001b[0mconstruction\u001b[0m \u001b[0;32mimport\u001b[0m \u001b[0marray\u001b[0m\u001b[0;34m,\u001b[0m \u001b[0mextract_array\u001b[0m\u001b[0;34m\u001b[0m\u001b[0;34m\u001b[0m\u001b[0m\n\u001b[0;32m---> 53\u001b[0;31m \u001b[0;32mfrom\u001b[0m \u001b[0mpandas\u001b[0m\u001b[0;34m.\u001b[0m\u001b[0mcore\u001b[0m\u001b[0;34m.\u001b[0m\u001b[0mindexers\u001b[0m \u001b[0;32mimport\u001b[0m \u001b[0mvalidate_indices\u001b[0m\u001b[0;34m\u001b[0m\u001b[0;34m\u001b[0m\u001b[0m\n\u001b[0m\u001b[1;32m     54\u001b[0m \u001b[0;34m\u001b[0m\u001b[0m\n\u001b[1;32m     55\u001b[0m \u001b[0;32mif\u001b[0m \u001b[0mTYPE_CHECKING\u001b[0m\u001b[0;34m:\u001b[0m\u001b[0;34m\u001b[0m\u001b[0;34m\u001b[0m\u001b[0m\n",
      "\u001b[0;32m/apps/share64/debian10/anaconda/anaconda-7/lib/python3.8/site-packages/pandas/core/indexers/__init__.py\u001b[0m in \u001b[0;36m<module>\u001b[0;34m\u001b[0m\n\u001b[0;32m----> 1\u001b[0;31m from pandas.core.indexers.utils import (\n\u001b[0m\u001b[1;32m      2\u001b[0m     \u001b[0mcheck_array_indexer\u001b[0m\u001b[0;34m,\u001b[0m\u001b[0;34m\u001b[0m\u001b[0;34m\u001b[0m\u001b[0m\n\u001b[1;32m      3\u001b[0m     \u001b[0mcheck_key_length\u001b[0m\u001b[0;34m,\u001b[0m\u001b[0;34m\u001b[0m\u001b[0;34m\u001b[0m\u001b[0m\n\u001b[1;32m      4\u001b[0m     \u001b[0mcheck_setitem_lengths\u001b[0m\u001b[0;34m,\u001b[0m\u001b[0;34m\u001b[0m\u001b[0;34m\u001b[0m\u001b[0m\n\u001b[1;32m      5\u001b[0m     \u001b[0mdeprecate_ndim_indexing\u001b[0m\u001b[0;34m,\u001b[0m\u001b[0;34m\u001b[0m\u001b[0;34m\u001b[0m\u001b[0m\n",
      "\u001b[0;32m/apps/share64/debian10/anaconda/anaconda-7/lib/python3.8/site-packages/pandas/core/indexers/utils.py\u001b[0m in \u001b[0;36m<module>\u001b[0;34m\u001b[0m\n\u001b[1;32m     16\u001b[0m     \u001b[0mArrayLike\u001b[0m\u001b[0;34m,\u001b[0m\u001b[0;34m\u001b[0m\u001b[0;34m\u001b[0m\u001b[0m\n\u001b[1;32m     17\u001b[0m )\n\u001b[0;32m---> 18\u001b[0;31m \u001b[0;32mfrom\u001b[0m \u001b[0mpandas\u001b[0m\u001b[0;34m.\u001b[0m\u001b[0mutil\u001b[0m\u001b[0;34m.\u001b[0m\u001b[0m_exceptions\u001b[0m \u001b[0;32mimport\u001b[0m \u001b[0mfind_stack_level\u001b[0m\u001b[0;34m\u001b[0m\u001b[0;34m\u001b[0m\u001b[0m\n\u001b[0m\u001b[1;32m     19\u001b[0m \u001b[0;34m\u001b[0m\u001b[0m\n\u001b[1;32m     20\u001b[0m from pandas.core.dtypes.common import (\n",
      "\u001b[0;31mImportError\u001b[0m: cannot import name 'find_stack_level' from 'pandas.util._exceptions' (/apps/share64/debian10/anaconda/anaconda-7/lib/python3.8/site-packages/pandas/util/_exceptions.py)"
     ]
    }
   ],
   "source": [
    "import numpy as np\n",
    "import matplotlib.pyplot as plt\n",
    "import pandas as pd\n",
    "from IPython.display import display\n",
    "\n",
    "# Read the CSV file into a DataFrame\n",
    "df = pd.read_csv('files/geotherms.csv')\n",
    "df.head()"
   ]
  },
  {
   "cell_type": "code",
   "execution_count": null,
   "metadata": {
    "id": "LSWaDWQPJtex"
   },
   "outputs": [],
   "source": [
    "# -----------------------------------------------------\n",
    "# Interpolate the input data\n",
    "# -----------------------------------------------------\n",
    "# Create a new DataFrame to store the interpolated data\n",
    "df_interpolated = pd.DataFrame(columns=df.columns)\n",
    "\n",
    "# Interpolate the data every 1 km\n",
    "df_interpolated['z(km)'] = range(0, 41, 1)\n",
    "\n",
    "df_interpolated['P(MPa)'] = np.interp(df_interpolated['z(km)'], df['z(km)'], df['P(MPa)'])\n",
    "df_interpolated['T_A(C)'] = np.interp(df_interpolated['z(km)'], df['z(km)'], df['T_A(C)'])\n",
    "df_interpolated['T_B(C)'] = np.interp(df_interpolated['z(km)'], df['z(km)'], df['T_B(C)'])"
   ]
  },
  {
   "cell_type": "code",
   "execution_count": null,
   "metadata": {
    "colab": {
     "base_uri": "https://localhost:8080/",
     "height": 455
    },
    "executionInfo": {
     "elapsed": 719,
     "status": "ok",
     "timestamp": 1726764504800,
     "user": {
      "displayName": "Arushi Saxena",
      "userId": "02841886933914528914"
     },
     "user_tz": 420
    },
    "id": "mVQJjpghK8OE",
    "outputId": "3915316f-624f-4aeb-caf7-15b8298c5c2c"
   },
   "outputs": [
    {
     "data": {
      "image/png": "[encoded data removed]",
      "text/plain": [
       "<Figure size 640x480 with 1 Axes>"
      ]
     },
     "metadata": {},
     "output_type": "display_data"
    }
   ],
   "source": [
    "# --------------------------------------------------------------\n",
    "# Plot interpolated geothermal gradients with depth and pressure\n",
    "# --------------------------------------------------------------\n",
    "fig, ax = plt.subplots()\n",
    "ax.plot(df_interpolated['T_A(C)'], df_interpolated['z(km)'], label=''r'$\\nabla T_{A}$')\n",
    "ax.plot(df_interpolated['T_B(C)'], df_interpolated['z(km)'], label=''r'$\\nabla T_{B}$')\n",
    "ax.set_xlim(0, df_interpolated[['T_A(C)', 'T_B(C)']].max().max()) # Set x-axis limits\n",
    "ax.set_ylim(df_interpolated['z(km)'].max(), 0)  # Set y-axis limits\n",
    "ax.set_xlabel('Temperature (C)')\n",
    "ax.set_ylabel('Depth (km)')\n",
    "ax.legend()\n",
    "\n",
    "# Create a function to convert depth to pressure\n",
    "def depth_to_pressure(depth):\n",
    "    return np.interp(depth, df_interpolated['z(km)'], df_interpolated['P(MPa)'])\n",
    "\n",
    "# Create a function to convert pressure to depth\n",
    "def pressure_to_depth(pressure):\n",
    "    return np.interp(pressure, df_interpolated['P(MPa)'], df_interpolated['z(km)'])\n",
    "\n",
    "# Create a secondary y-axis to show pressure\n",
    "secax_y = ax.secondary_yaxis('right', functions=(depth_to_pressure, pressure_to_depth))\n",
    "secax_y.set_ylabel('Pressure (MPa)')\n",
    "\n",
    "plt.show()"
   ]
  },
  {
   "cell_type": "markdown",
   "metadata": {
    "id": "a_cCABnnS5kS"
   },
   "source": [
    "### Computing thermal conductivity within continents\n",
    "\n",
    "Now that we have the geothermal gradients, let's use Eq. 6 to compute thermal conductivity for two common rock types, granite and granulite, in the continental regions.\n",
    "\n",
    "**Table 4:** Themal conductivity parameter values ([Chapman 1986](https://doi.org/10.1144/GSL.SP.1986.024.01.07)).\n",
    "\n",
    "\n",
    "|     | Granite | Granulite |\n",
    "|:----|:-------:|:---------:|\n",
    "| K$_{0}$ (W/m K) | $3.0$ | $2.6$ |\n",
    "| b (/K) | $1.5 \\times 10^{-3}$ | $1.0 \\times 10^{-3}$ |\n",
    "| c (/km) | $1.5$ | $1.5$ |"
   ]
  },
  {
   "cell_type": "code",
   "execution_count": null,
   "metadata": {
    "id": "up-5zAMDWNj2"
   },
   "outputs": [],
   "source": [
    "# Thermal conductivity parameters\n",
    "k0_granite   = 3\n",
    "k0_granulite = 2.6\n",
    "b_granite    = 1.5e-3\n",
    "b_granulite  = 1.0e-3\n",
    "c_granite    = 1.5e-3\n",
    "c_granulite  = 1.5e-3"
   ]
  },
  {
   "cell_type": "code",
   "execution_count": null,
   "metadata": {
    "id": "DI0JmjaCWUJ8"
   },
   "outputs": [],
   "source": [
    "# Copy the previous DataFrame to a new one\n",
    "df_conductivity = df_interpolated.copy()\n",
    "\n",
    "# Function representing Eq.6\n",
    "def thermal_conductivity(T, z, k0, b, c):\n",
    "    return k0 * (1 + c * z) / (1 + b * T)\n",
    "\n",
    "# Calculate the thermal conductivities using the function\n",
    "df_conductivity['k_A_granite(W/mK)'] = thermal_conductivity(df_conductivity['T_A(C)'], df_conductivity['z(km)'], k0_granite, b_granite, c_granite)\n",
    "df_conductivity['k_B_granite(W/mK)'] = thermal_conductivity(df_conductivity['T_B(C)'], df_conductivity['z(km)'], k0_granite, b_granite, c_granite)\n",
    "df_conductivity['k_A_granulite(W/mK)'] = thermal_conductivity(df_conductivity['T_A(C)'], df_conductivity['z(km)'], k0_granulite, b_granulite, c_granulite)\n",
    "df_conductivity['k_B_granulite(W/mK)'] = thermal_conductivity(df_conductivity['T_B(C)'], df_conductivity['z(km)'], k0_granulite, b_granulite, c_granulite)"
   ]
  },
  {
   "cell_type": "code",
   "execution_count": 2,
   "metadata": {
    "colab": {
     "base_uri": "https://localhost:8080/",
     "height": 472
    },
    "executionInfo": {
     "elapsed": 729,
     "status": "ok",
     "timestamp": 1726767595910,
     "user": {
      "displayName": "Arushi Saxena",
      "userId": "02841886933914528914"
     },
     "user_tz": 420
    },
    "id": "od4Ib1vWXWc2",
    "outputId": "9e11dd7e-06bc-47b0-edce-9debd20b46d2"
   },
   "outputs": [
    {
     "ename": "NameError",
     "evalue": "name 'plt' is not defined",
     "output_type": "error",
     "traceback": [
      "\u001b[0;31m---------------------------------------------------------------------------\u001b[0m",
      "\u001b[0;31mNameError\u001b[0m                                 Traceback (most recent call last)",
      "\u001b[0;32m<ipython-input-2-b221b33bade5>\u001b[0m in \u001b[0;36m<module>\u001b[0;34m\u001b[0m\n\u001b[1;32m      1\u001b[0m \u001b[0;31m# Plot the thermal conductivities\u001b[0m\u001b[0;34m\u001b[0m\u001b[0;34m\u001b[0m\u001b[0;34m\u001b[0m\u001b[0m\n\u001b[0;32m----> 2\u001b[0;31m \u001b[0mfig\u001b[0m\u001b[0;34m,\u001b[0m \u001b[0max\u001b[0m \u001b[0;34m=\u001b[0m \u001b[0mplt\u001b[0m\u001b[0;34m.\u001b[0m\u001b[0msubplots\u001b[0m\u001b[0;34m(\u001b[0m\u001b[0;34m)\u001b[0m\u001b[0;34m\u001b[0m\u001b[0;34m\u001b[0m\u001b[0m\n\u001b[0m\u001b[1;32m      3\u001b[0m \u001b[0max\u001b[0m\u001b[0;34m.\u001b[0m\u001b[0mplot\u001b[0m\u001b[0;34m(\u001b[0m\u001b[0mdf_conductivity\u001b[0m\u001b[0;34m[\u001b[0m\u001b[0;34m'k_A_granite(W/mK)'\u001b[0m\u001b[0;34m]\u001b[0m\u001b[0;34m,\u001b[0m \u001b[0mdf_conductivity\u001b[0m\u001b[0;34m[\u001b[0m\u001b[0;34m'z(km)'\u001b[0m\u001b[0;34m]\u001b[0m\u001b[0;34m,\u001b[0m \u001b[0mcolor\u001b[0m\u001b[0;34m=\u001b[0m\u001b[0;34m'red'\u001b[0m\u001b[0;34m,\u001b[0m \u001b[0mlinestyle\u001b[0m\u001b[0;34m=\u001b[0m\u001b[0;34m'-'\u001b[0m\u001b[0;34m,\u001b[0m \u001b[0mlabel\u001b[0m\u001b[0;34m=\u001b[0m\u001b[0;34m''\u001b[0m\u001b[0;34mr'$k_{A, granite}$'\u001b[0m\u001b[0;34m)\u001b[0m\u001b[0;34m\u001b[0m\u001b[0;34m\u001b[0m\u001b[0m\n\u001b[1;32m      4\u001b[0m \u001b[0max\u001b[0m\u001b[0;34m.\u001b[0m\u001b[0mplot\u001b[0m\u001b[0;34m(\u001b[0m\u001b[0mdf_conductivity\u001b[0m\u001b[0;34m[\u001b[0m\u001b[0;34m'k_B_granite(W/mK)'\u001b[0m\u001b[0;34m]\u001b[0m\u001b[0;34m,\u001b[0m \u001b[0mdf_conductivity\u001b[0m\u001b[0;34m[\u001b[0m\u001b[0;34m'z(km)'\u001b[0m\u001b[0;34m]\u001b[0m\u001b[0;34m,\u001b[0m \u001b[0mcolor\u001b[0m\u001b[0;34m=\u001b[0m\u001b[0;34m'red'\u001b[0m\u001b[0;34m,\u001b[0m \u001b[0mlinestyle\u001b[0m\u001b[0;34m=\u001b[0m\u001b[0;34m'--'\u001b[0m\u001b[0;34m,\u001b[0m \u001b[0mlabel\u001b[0m\u001b[0;34m=\u001b[0m\u001b[0;34m''\u001b[0m\u001b[0;34mr'$k_{B, granite}$'\u001b[0m\u001b[0;34m)\u001b[0m\u001b[0;34m\u001b[0m\u001b[0;34m\u001b[0m\u001b[0m\n\u001b[1;32m      5\u001b[0m \u001b[0max\u001b[0m\u001b[0;34m.\u001b[0m\u001b[0mplot\u001b[0m\u001b[0;34m(\u001b[0m\u001b[0mdf_conductivity\u001b[0m\u001b[0;34m[\u001b[0m\u001b[0;34m'k_A_granulite(W/mK)'\u001b[0m\u001b[0;34m]\u001b[0m\u001b[0;34m,\u001b[0m \u001b[0mdf_conductivity\u001b[0m\u001b[0;34m[\u001b[0m\u001b[0;34m'z(km)'\u001b[0m\u001b[0;34m]\u001b[0m\u001b[0;34m,\u001b[0m \u001b[0mcolor\u001b[0m\u001b[0;34m=\u001b[0m\u001b[0;34m'green'\u001b[0m\u001b[0;34m,\u001b[0m \u001b[0mlinestyle\u001b[0m\u001b[0;34m=\u001b[0m\u001b[0;34m'-'\u001b[0m\u001b[0;34m,\u001b[0m \u001b[0mlabel\u001b[0m\u001b[0;34m=\u001b[0m\u001b[0;34m''\u001b[0m\u001b[0;34mr'$k_{A, granulite}$'\u001b[0m\u001b[0;34m)\u001b[0m\u001b[0;34m\u001b[0m\u001b[0;34m\u001b[0m\u001b[0m\n",
      "\u001b[0;31mNameError\u001b[0m: name 'plt' is not defined"
     ]
    }
   ],
   "source": [
    "# Plot the thermal conductivities\n",
    "fig, ax = plt.subplots()\n",
    "ax.plot(df_conductivity['k_A_granite(W/mK)'], df_conductivity['z(km)'], color='red', linestyle='-', label=''r'$k_{A, granite}$')\n",
    "ax.plot(df_conductivity['k_B_granite(W/mK)'], df_conductivity['z(km)'], color='red', linestyle='--', label=''r'$k_{B, granite}$')\n",
    "ax.plot(df_conductivity['k_A_granulite(W/mK)'], df_conductivity['z(km)'], color='green', linestyle='-', label=''r'$k_{A, granulite}$')\n",
    "ax.plot(df_conductivity['k_B_granulite(W/mK)'], df_conductivity['z(km)'], color='green', linestyle='--', label=''r'$k_{B, granulite}$')\n",
    "\n",
    "ax.set_xlim(df_conductivity[['k_A_granite(W/mK)', 'k_B_granite(W/mK)', 'k_A_granulite(W/mK)', 'k_B_granulite(W/mK)']].min().min(), \\\n",
    "            df_conductivity[['k_A_granite(W/mK)', 'k_B_granite(W/mK)', 'k_A_granulite(W/mK)', 'k_B_granulite(W/mK)']].max().max())\n",
    "ax.set_ylim(df_conductivity['z(km)'].max(), 0)\n",
    "ax.set_xlabel('Thermal Conductivity (W/mK)')\n",
    "ax.set_ylabel('Depth (km)')\n",
    "ax.legend()\n",
    "ax.set_title('Thermal Conductivity vs Depth')\n",
    "\n",
    "# Create a secondary y-axis to show pressure\n",
    "secax_y = ax.secondary_yaxis('right', functions=(depth_to_pressure, pressure_to_depth))\n",
    "secax_y.set_ylabel('Pressure (MPa)')\n",
    "\n",
    "plt.show()"
   ]
  },
  {
   "cell_type": "markdown",
   "metadata": {
    "id": "YwMfPE4NlOi_"
   },
   "source": [
    " \n",
    "&nbsp; <div style=\"text-align: right\">   \n",
    "      &rarr; <b>NEXT:[Mantle radioactive heat production](./4_mantle_radioactive_heat_generation.ipynb)</b> <a href=\"\"></a> &nbsp;&nbsp;\n",
    "      <img src=\"../assets/education-gem-notebooks_icon.png\" alt=\"icon\"  style=\"width:4%\">\n",
    "</div>"
   ]
  }
 ],
 "metadata": {
  "colab": {
   "provenance": []
  },
  "kernelspec": {
   "display_name": "Python 3",
   "language": "python",
   "name": "python3"
  },
  "language_info": {
   "codemirror_mode": {
    "name": "ipython",
    "version": 3
   },
   "file_extension": ".py",
   "mimetype": "text/x-python",
   "name": "python",
   "nbconvert_exporter": "python",
   "pygments_lexer": "ipython3",
   "version": "3.8.5"
  }
 },
 "nbformat": 4,
 "nbformat_minor": 4
}
