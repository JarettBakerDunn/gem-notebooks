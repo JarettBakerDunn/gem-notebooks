{
 "cells": [
  {
   "cell_type": "markdown",
   "metadata": {
    "id": "2JIilrP_3lcT"
   },
   "source": [
    "## Plate Cooling Model of Lithosphere\n",
    "At large distances from the oceanic ridges (or old plates), the heat flow observed was not as low as expected from the half-space cooling model (see notebook 8), and not much thermal difference between lithosphere\n",
    "of 80 and 160 Myr of age was observed.\n",
    "\n",
    "Therefore, plate cooling model was proposed to get a better fit to the data. In this model, a maximum thickness of lithosphere ($L$) is assumed and the base of the lithosphere is maintained at a constant temperature, $T_m$. To maintain a constant temperature at the plate's base, small-scale sub-lithospheric convection is suggested.\n",
    "\n",
    "The boundary conditions for the problem in Eq.9 are now:\n",
    "\n",
    "\\begin{align}\n",
    "    \\frac{\\partial T}{\\partial t} = \\kappa \\frac{\\partial^2 T}{\\partial z^2} \\tag{9},\n",
    "\\end{align}\n",
    "\n",
    "$T=T_s$ at the surface, $z=0$, $t >0$\n",
    "\n",
    "$T=T_m$ at depths $z=L$, $t >0$\n",
    "\n",
    "$T=T_m $ at $t =0$, $0\\leq z \\leq L$\n",
    "\n",
    "A detailed derivation of the solution to the above problem satisfying the initial and boundary conditions has been given by Carslaw and Jaeger (1959, p. 100). Heat flow for the plate model is given by:\n",
    "\n",
    "\\begin{align}\n",
    "  q_0(t) = \\frac{k(Tm - Ts)}{L} \\left[ 1 + 2 \\sum_{n=1}^{\\infty} \\exp \\left( \\frac{-n ^2 \\pi^2 \\kappa t}{L^2} \\right) \\right]\n",
    "\\end{align}\n",
    "\n",
    "At large times (far from the ridge axis), an equilibirum linear profile emerges from this equation:\n",
    "\n",
    "\\begin{align}\n",
    "  T =  T_s + (T_m - T_s)(\\frac{z}{z_L}) \\tag{12},\n",
    "\\end{align}\n",
    "\n",
    "Equation 12 can be used to define the conductive temperature profile of continental lithospheres."
   ]
  },
  {
   "cell_type": "code",
   "execution_count": 1,
   "metadata": {
    "executionInfo": {
     "elapsed": 216,
     "status": "ok",
     "timestamp": 1728583890077,
     "user": {
      "displayName": "Arushi Saxena",
      "userId": "00683773484938428447"
     },
     "user_tz": 420
    },
    "id": "gAC0DmobhR_i"
   },
   "outputs": [],
   "source": [
    "import numpy as  np\n",
    "import matplotlib.pyplot as plt"
   ]
  },
  {
   "cell_type": "code",
   "execution_count": 2,
   "metadata": {
    "executionInfo": {
     "elapsed": 335,
     "status": "ok",
     "timestamp": 1728586386307,
     "user": {
      "displayName": "Arushi Saxena",
      "userId": "00683773484938428447"
     },
     "user_tz": 420
    },
    "id": "UhKtmB6ToR5x"
   },
   "outputs": [],
   "source": [
    "# Let's define the typical values for the oceanic lithosphere\n",
    "# We use SI units to define all our variables and constants\n",
    "\n",
    "surface_temperature  = 273   # [K]\n",
    "mantle_temperature   = 1573  # [K]\n",
    "thermal_diffusivity  = 1e-6  # m^2/s\n",
    "thermal_conductivity = 3.3   # W/m K\n",
    "max_lith_thickness   = 100e3 # m\n",
    "\n",
    "year_to_seconds      = 365 * 24 * 3600"
   ]
  },
  {
   "cell_type": "code",
   "execution_count": 28,
   "metadata": {
    "executionInfo": {
     "elapsed": 6,
     "status": "ok",
     "timestamp": 1728586386640,
     "user": {
      "displayName": "Arushi Saxena",
      "userId": "00683773484938428447"
     },
     "user_tz": 420
    },
    "id": "OPHaX8dmo4PF"
   },
   "outputs": [],
   "source": [
    "def exponential_term (n, t):\n",
    "    '''\n",
    "        This function approximates the exponential term at a given n value\n",
    "        in the heat flow equation for a plate cooling model.\n",
    "        \n",
    "        Inputs\n",
    "        ----------\n",
    "        n : int\n",
    "            Compute the exponential series at this n value.\n",
    "        t : int \n",
    "            Age (seconds) of the oceanic plate.\n",
    "            \n",
    "        Output\n",
    "        ----------\n",
    "        double\n",
    "            Value of the exponential term for the given input parameters.\n",
    "        \n",
    "    '''\n",
    "    return np.exp((-n*n * np.pi*np.pi * thermal_diffusivity * t * year_to_seconds)/ \\\n",
    "         (max_lith_thickness*max_lith_thickness))\n",
    "\n",
    "\n",
    "def surface_heat_flow_plate_model(N, t):\n",
    "    '''\n",
    "       This function computes the surface heat flow using the plate cooling model of \n",
    "       lithosphere.\n",
    "    \n",
    "       Inputs\n",
    "       ----------\n",
    "       N : int\n",
    "           Total number of exponential terms used to approximate infinite sum series. \n",
    "           We want to make this number as large as possible without affecting the \n",
    "           compute time too much.\n",
    "       t : int\n",
    "           Age (seconds) of the oceanic plate.\n",
    "    \n",
    "       Output\n",
    "       ----------\n",
    "       double\n",
    "           Surface heat flow for following the plate cooling model for a given age of the \n",
    "           oceanic plate.\n",
    "    '''\n",
    "    \n",
    "    sum = 0\n",
    "    n   = 1\n",
    "\n",
    "    while (n <= N):\n",
    "        sum += exponential_term(n , t)\n",
    "        n   += 1\n",
    "\n",
    "    heat_flow = (thermal_conductivity * (mantle_temperature - surface_temperature)/max_lith_thickness) * \\\n",
    "                (1 + 2 * sum)\n",
    "\n",
    "    return heat_flow"
   ]
  },
  {
   "cell_type": "code",
   "execution_count": 29,
   "metadata": {
    "executionInfo": {
     "elapsed": 273,
     "status": "ok",
     "timestamp": 1728586390453,
     "user": {
      "displayName": "Arushi Saxena",
      "userId": "00683773484938428447"
     },
     "user_tz": 420
    },
    "id": "t2_moQllvNLQ"
   },
   "outputs": [],
   "source": [
    "time  = np.arange(1, 200e6, 1e6)\n",
    "num   = 10000\n",
    "\n",
    "heat_flow_plate_model = surface_heat_flow_plate_model(num, time)\n",
    "heat_flow_half_space  = thermal_conductivity * (mantle_temperature - surface_temperature) / \\\n",
    "                        (np.sqrt (np.pi * thermal_diffusivity * time * year_to_seconds))"
   ]
  },
  {
   "cell_type": "code",
   "execution_count": 40,
   "metadata": {
    "colab": {
     "base_uri": "https://localhost:8080/",
     "height": 410
    },
    "executionInfo": {
     "elapsed": 1167,
     "status": "ok",
     "timestamp": 1728587022877,
     "user": {
      "displayName": "Arushi Saxena",
      "userId": "00683773484938428447"
     },
     "user_tz": 420
    },
    "id": "6JDeOa6OwHu3",
    "outputId": "e2171308-9a65-4f4b-9018-1095e0694dc4"
   },
   "outputs": [
    {
     "data": {
      "text/plain": [
       "<matplotlib.legend.Legend at 0x7d6459006ec0>"
      ]
     },
     "execution_count": 40,
     "metadata": {},
     "output_type": "execute_result"
    },
    {
     "data": {
      "image/png": "[encoded data removed]",
      "text/plain": [
       "<Figure size 500x400 with 1 Axes>"
      ]
     },
     "metadata": {},
     "output_type": "display_data"
    }
   ],
   "source": [
    "# Now, let's plot the heat flow due to the plate model with max lithosphere\n",
    "# thickness 100 km , the half space cooling model (discussed earlier), and the\n",
    "# observed heat flow values\n",
    "\n",
    "data_observed = np.loadtxt('files/Lister_heat_flow_from_plot.txt', delimiter=\",\")\n",
    "heat_flow_observed = data_observed[:, 1]\n",
    "plate_age_observed = data_observed[:, 0]\n",
    "\n",
    "fig, ax1 = plt.subplots(1, 1, figsize=(5, 4))\n",
    "ax1.plot(time/(1e6), heat_flow_half_space*1e3, label='half-space') # heat flux in mW/m^2\n",
    "ax1.plot(time/(1e6), heat_flow_plate_model*1e3, label='plate-model-100')\n",
    "ax1.scatter(plate_age_observed, heat_flow_observed, c='green', alpha=0.25)\n",
    "\n",
    "ax1.set_ylim([0, 250])\n",
    "ax1.set_xlabel('Time [Myr]')\n",
    "ax1.set_ylabel('Heat flow, q [mW/m$^{-2}$]')\n",
    "\n",
    "plt.legend()"
   ]
  },
  {
   "cell_type": "markdown",
   "metadata": {
    "id": "VmzMjNIgylnq"
   },
   "source": [
    "----\n",
    "## Futher Reading\n",
    "\n",
    "A comparision of the oceanic lithopsheric temperature profile with the plate cooling and half-space cooling models can be found in the study:  Hager, Bradford H. \"Global isostatic geoid anomalies for plate and boundary layer models of the lithosphere.\" [Earth and Planetary Science Letters 63.1 (1983): 97-109](https://agupubs.onlinelibrary.wiley.com/doi/pdf/10.1029/93JB02696)"
   ]
  }
 ],
 "metadata": {
  "colab": {
   "provenance": []
  },
  "kernelspec": {
   "display_name": "Python 3 (ipykernel)",
   "language": "python",
   "name": "python3"
  },
  "language_info": {
   "codemirror_mode": {
    "name": "ipython",
    "version": 3
   },
   "file_extension": ".py",
   "mimetype": "text/x-python",
   "name": "python",
   "nbconvert_exporter": "python",
   "pygments_lexer": "ipython3",
   "version": "3.11.5"
  }
 },
 "nbformat": 4,
 "nbformat_minor": 4
}
