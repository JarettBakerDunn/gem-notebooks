{
 "cells": [
  {
   "cell_type": "markdown",
   "metadata": {},
   "source": [
    "<br>\n",
    "\n",
    "\n",
    "<table style=\"width: 70%; border-collapse: collapse; border: none; margin-left:60px\">\n",
    "  <tr>\n",
    "    <td style=\"width: 20%\" align=\"center\"> <img src=\"../assets/education-gem-notebooks_icon.png\" alt=\"icon\"  width=\"80%\" ></td>\n",
    "    <td> <h1 style=\"text-align: center;\"> CIG-GEM Education Notebook</h1>   \n",
    "         <h1 style=\"text-align: center;\">TITLE</h1> \n",
    "         <h2 style=\"text-align: center;\">Foundational Level (L0)</h2>        \n",
    "         <h3 style=\"text-align: center;\">vX.X</h3>  </td>                        \n",
    "  </tr>\n",
    "</table>\n",
    "\n",
    "\n",
    "<h4 style=\"margin-left:20px\"><i> Authors: <i> INSERT PRIMARY AUTHORS</i> with contributions from the CIG Education Working Group</h4>\n",
    "<br>\n",
    "    \n",
    "<img src=\"../assets/cig-logo.png\" alt=\"cig icon\" width=\"10%\"> &nbsp;&nbsp;&nbsp;[![License: GPLv3](https://img.shields.io/badge/License-GPLv3-blue)](LICENSE)\n",
    "\n",
    "***"
   ]
  },
  {
   "cell_type": "markdown",
   "metadata": {},
   "source": [
    "## Description\n",
    "\n",
    "* Use markdown where possible.\n",
    "* Apply html5 where necessary.\n",
    "* Use underscore for space when naming files e.g., `module_1.ipynb` NOT `module 1.ipynb`.\n",
    "* Assets common to all modules should be in the `/assets` folder.\n",
    "* Each module should have a separate folder and subfolders that contain the assets that are only used locally.\n",
    "\n",
    "\n",
    "<table style=\"border-collapse: collapse; border: none; font-size:100%\">\n",
    "  <tr>\n",
    "    <td style=\"width: 7%; text-align: center\"> <img src=\"../assets/icon_important.png\"> </td>\n",
    "    <td>\n",
    "        <b>Important:</b> This is what an <b>Important</b> box looks like. </td>                 \n",
    "  </tr>\n",
    "</table>\n",
    "\n",
    "If you need to do some formatting of an image, you may need to use html:\n",
    "\n",
    "<div align=\"center\">\n",
    "<img src=\"../assets/cig-logo.png\" alt=\"cig icon\" width=\"10%\">\n",
    "    </div>\n",
    "<br>\n",
    "\n",
    "Otherwise use markdown:\n",
    "\n",
    "![License: GPLv3](https://img.shields.io/badge/License-GPLv3-blue)\n",
    "\n",
    "***Please remember to update this template if other features are added.***\n",
    "\n",
    "## Learning objectives\n",
    "\n",
    "Upon completion of ths module you should be familiar with:\n",
    "  * *INSERT LIST OF OBJECTIVES*\n",
    "\n",
    "## Prerequisites\n",
    "\n",
    "This module (does not require) requires knowledge of:\n",
    "* *INSERT PREREQ's*\n",
    "***"
   ]
  },
  {
   "cell_type": "markdown",
   "metadata": {},
   "source": [
    "## Table of Contents\n",
    " * [Chapter 1](dummy_link.ipynb)\n",
    " \n",
    " Create links to your chapters in suggested order of use.  \n",
    " \n",
    " Use a descriptive title e.g., replace Chapter 1 with the title of the section. \n",
    " \n",
    " Use the same title or a shorten form with the NEXT link.\n",
    " "
   ]
  },
  {
   "cell_type": "markdown",
   "metadata": {},
   "source": [
    "***\n",
    "## Acknowledgements\n",
    "\n",
    "Acknowledge your sources, funders and or other contributors here."
   ]
  },
  {
   "cell_type": "markdown",
   "metadata": {},
   "source": [
    "\n",
    "<div style=\"text-align: right\">  &rarr; <b>NEXT:</b> <a href=\"dummy_link.ipynb\">title</a></div>\n"
   ]
  }
 ],
 "metadata": {
  "kernelspec": {
   "display_name": "Python3 (fall2022)",
   "language": "python",
   "name": "conda_fall2022"
  },
  "language_info": {
   "codemirror_mode": {
    "name": "ipython",
    "version": 3
   },
   "file_extension": ".py",
   "mimetype": "text/x-python",
   "name": "python",
   "nbconvert_exporter": "python",
   "pygments_lexer": "ipython3",
   "version": "3.9.12"
  }
 },
 "nbformat": 4,
 "nbformat_minor": 4
}
