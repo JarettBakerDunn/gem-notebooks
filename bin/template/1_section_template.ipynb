{
 "cells": [
  {
   "cell_type": "markdown",
   "metadata": {},
   "source": [
    "## Section title"
   ]
  },
  {
   "cell_type": "markdown",
   "metadata": {},
   "source": [
    "<br><br>\n",
    "\n",
    "\n",
    "<div style=\"text-align: right\">   &rarr; <b>NEXT:</b> <a href=\"dummy_link.ipynb\">title</a> &nbsp;&nbsp;\n",
    "<img src=\"../assets/education-gem-notebooks_icon.png\" alt=\"icon\"  style=\"width:4%\">\n",
    "    </div>\n",
    " \n",
    "***\n",
    "The **last section** does not need a **NEXT** button so delete **NEXT** but leave the branding (education logo).\n",
    "\n",
    "\n",
    "<div style=\"text-align: right\"> \n",
    "<img src=\"../assets/education-gem-notebooks_icon.png\" alt=\"icon\"  style=\"width:4%\">\n",
    "    </div>"
   ]
  },
  {
   "cell_type": "markdown",
   "metadata": {},
   "source": [
    "***\n",
    "## Extra\n",
    "\n",
    "Add extra resources here."
   ]
  }
 ],
 "metadata": {
  "kernelspec": {
   "display_name": "Python3 (fall2022)",
   "language": "python",
   "name": "conda_fall2022"
  },
  "language_info": {
   "codemirror_mode": {
    "name": "ipython",
    "version": 3
   },
   "file_extension": ".py",
   "mimetype": "text/x-python",
   "name": "python",
   "nbconvert_exporter": "python",
   "pygments_lexer": "ipython3",
   "version": "3.9.12"
  }
 },
 "nbformat": 4,
 "nbformat_minor": 4
}
