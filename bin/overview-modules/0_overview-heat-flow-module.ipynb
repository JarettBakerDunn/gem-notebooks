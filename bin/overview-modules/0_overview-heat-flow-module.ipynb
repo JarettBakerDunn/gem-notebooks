{
 "cells": [
  {
   "cell_type": "markdown",
   "id": "14ae2381-13a8-4286-b5aa-1b1f73a8e447",
   "metadata": {
    "id": "14ae2381-13a8-4286-b5aa-1b1f73a8e447",
    "tags": []
   },
   "source": [
    "\n",
    "<p align=\"center\"> <img src=\"assets/cig-logo.png\" alt=\"cig icon\" width=\"30%\"> </p>\n",
    "\n",
    "<p align=\"center\"> <img src=\"assets/education-gem-notebooks_icon.png\" alt=\"icon\" width=\"10%\"> </p>\n",
    "\n",
    "<h1 style=\"text-align: center;\">CIG-GEM Education Notebook</h1>\n",
    "<h1 style=\"text-align: center;\">Heat Flow Module</h1>\n",
    "\n",
    "<h2 style=\"text-align: center;\">Foundational Level (L0)</h2>\n",
    "\n",
    "<h3 style=\"text-align: center;\">v0.1</h3>\n",
    "<h4 style=\"text-align: center;\"> <small> <i> <b> Author: M. Gouiza with contributions from the CIG Education Working Group</h3>\n",
    "\n",
    "[![License: GPLv3](https://img.shields.io/badge/License-GPLv3-blue)](LICENSE)"
   ]
  },
  {
   "cell_type": "markdown",
   "id": "8f94683a-c24e-4794-b4cd-669159de48de",
   "metadata": {
    "id": "8f94683a-c24e-4794-b4cd-669159de48de"
   },
   "source": [
    "-----------"
   ]
  },
  {
   "cell_type": "markdown",
   "id": "e95d948f-de6f-42ce-91ab-043ab3b80055",
   "metadata": {
    "id": "e95d948f-de6f-42ce-91ab-043ab3b80055"
   },
   "source": [
    "## Description\n",
    "\n",
    "An introduction to the conductive heat transfer mechanism within the Earth.\n",
    "\n",
    "## Learning objectives\n",
    "\n",
    "### Scientific\n",
    "Upon completion of this module you will be familiar with:\n",
    "\n",
    "- radioactive heat transfer within the Earth\n",
    "- the main parameters that influence Earth's continental heat flow\n",
    "- geothermal gradient of the lithosphere\n",
    "- heat transfer due to cooling of oceanic lithosphere\n",
    "\n",
    "### Technical\n",
    "Upon completion of this module you will know how to use python to:\n",
    "- import simple .csv data as DataFrames\n",
    "- create simple 2D (x,y) plots using matplotlib\n",
    "- plot data on maps with different projections using cartopy and matplotlib\n",
    "\n"
   ]
  },
  {
   "cell_type": "markdown",
   "id": "58c7e8de-6949-41f4-b186-5cdf831224cf",
   "metadata": {
    "id": "58c7e8de-6949-41f4-b186-5cdf831224cf"
   },
   "source": [
    "-----"
   ]
  },
  {
   "cell_type": "markdown",
   "id": "c2e9cee9-ec0a-4876-8f50-ece37329d753",
   "metadata": {
    "id": "c2e9cee9-ec0a-4876-8f50-ece37329d753",
    "tags": []
   },
   "source": [
    "# Table of Contents\n",
    "\n",
    "- [Summary](./0_overview-heat-flow-module.ipynb)\n",
    "\n",
    "- [Conductive heat transfer equations](../heat-flow-module-L0/1_heat_diffusion_equation.ipynb)\n",
    "\n",
    "- [Thermal parameters](../heat-flow-module-L0/2_thermal_parameters.ipynb)\n",
    "\n",
    "- [Thermal conductivity](../heat-flow-module-L0/3_thermal_conductivity_from_geotherms.ipynb)\n",
    "\n",
    "- [Mantle heat production](../heat-flow-module-L0/4_mantle_radioactive_heat_generation.ipynb)\n",
    "\n",
    "- Geothermal gradient of the lithosphere\n",
    "    - [World surface heat flow data](../heat-flow-module-L0/6_plotting_world_surface_heat_flow.ipynb)\n",
    "\n",
    "    - [Geothermal gradient calculation](../heat-flow-module-L0/7_geothermal_gradient_computation.ipynb)\n",
    "        \n",
    "- [Cooling of oceanic lithosphere](../heat-flow-module-L0/8_cooling_of_oceanic_lithosphere.ipynb)\n",
    "    \n",
    "- [Plate cooling model](../heat-flow-module-L0/9_plate_cooling_model_of_lithosphere.ipynb)\n"
   ]
  },
  {
   "cell_type": "markdown",
   "id": "fd66d352-24e6-4672-bb1d-4c648178a4f5",
   "metadata": {
    "id": "fd66d352-24e6-4672-bb1d-4c648178a4f5"
   },
   "source": [
    "## References\n",
    "\n",
    "Cermak, V., & Rybach, L. (2005). Thermal conductivity and specific heat of minerals and rocks. In G. Angen-Heister (Ed.), Landolt-Bornstein Numerical Data and Functional Relationships in Science and Technology (Vol. 16). Berlin: Springer-Verlag.\n",
    "\n",
    "Chapman, D. S. (1986). Thermal gradients in the continental crust. Geological Society, London, Special Publications, 24(1), 63–70. https://doi.org/10.1144/GSL.SP.1986.024.01.07\n",
    "\n",
    "Pollack, H. N., & Chapman, D. S. (1977). On the regional variation of heat flow, geotherms, and lithospheric thickness. Tectonophysics, 38(3), 279–296. https://doi.org/10.1016/0040-1951(77)90215-3\n",
    "\n",
    "Schubert, G., & Turcotte, D. (2014). Geodynamics (3rd ed.). Cambridge: Cambridge University Press. https://doi.org/10.1017/CBO9780511843877\n",
    "\n",
    "Stüwe, K. (2002). Geodynamics of the Lithosphere. Springer Berlin Heidelberg. https://doi.org/10.1007/978-3-540-71237-4\n",
    "\n",
    "Vitorello, I., & Pollack, H. N. (1980). On the variation of continental heat flow with age and the thermal evolution of continents. Journal of Geophysical Research, 85(B2), 983–995. https://doi.org/10.1029/JB085iB02p00983"
   ]
  },
  {
   "cell_type": "markdown",
   "id": "1bfb9bd0-06aa-46b2-9dcf-dc176a35275d",
   "metadata": {
    "id": "1bfb9bd0-06aa-46b2-9dcf-dc176a35275d"
   },
   "source": [
    "------------"
   ]
  },
  {
   "cell_type": "markdown",
   "id": "c3d50db2-6399-4b27-a7c1-74c278190f10",
   "metadata": {
    "id": "c3d50db2-6399-4b27-a7c1-74c278190f10"
   },
   "source": [
    "# Summary\n",
    "\n",
    "The temperature structure of the lithosphere affects a wide variety of physical properties and processes. For instance, rock density and rheology are temperature-dependent, which impacts lithospheric deformation and evolution over geological times.\n",
    "\n",
    "|   |\n",
    "|---|\n",
    "| <img src=\"images/earth_layering.png\" alt=\"Lithosphere\" width=\"400\"/> |\n",
    "| ***Figure 1:** The outer shells of the Earth ([Stüwe 2002](https://doi.org/10.1007/978-3-540-71237-4))* |\n",
    "\n",
    "There are three mechanisms for heat transfer: conduction, convection, and radiation. Conduction and convection are the most dominant mechanisms when studying solid Earth processes over geological times.\n",
    "\n",
    "The temperature distribution in the continental lithosphere is governed mainly by the conductive heat loss to the surface of heat that is generated internally in the crust by the decay of radioactive isotopes (e.g., U, Th, and K) and the upward heat flow from the sublithospheric mantle.\n",
    "\n",
    "In the oceanic lithosphere, heat loss is also largely controlled by conduction, although the contribution of convective heat transport by water circulating through the basaltic crustal rocks should be considered, especially near mid-oceanic ridges. The process through which Earth loses heat as new oceanic plates form and cool with time--known as the *cooling of the oceanic lithosphere*.\n"
   ]
  },
  {
   "cell_type": "markdown",
   "id": "2ff9e058-34a9-49d2-bc95-f3c25c39a67b",
   "metadata": {
    "id": "2ff9e058-34a9-49d2-bc95-f3c25c39a67b"
   },
   "source": [
    "----\n",
    "## Further Reading\n",
    "A good resource for learning about basic Python programming can be found here:  https://swcarpentry.github.io/python-novice-gapminder/\n",
    "\n",
    "Read more about how you can create geographical maps in python using cartopy here: https://scitools.org.uk/cartopy/docs/latest/  "
   ]
  },
  {
   "cell_type": "code",
   "execution_count": null,
   "id": "JobUlKkecKmp",
   "metadata": {
    "id": "JobUlKkecKmp"
   },
   "outputs": [],
   "source": []
  }
 ],
 "metadata": {
  "colab": {
   "provenance": []
  },
  "kernelspec": {
   "display_name": "Python 3 (ipykernel)",
   "language": "python",
   "name": "python3"
  },
  "language_info": {
   "codemirror_mode": {
    "name": "ipython",
    "version": 3
   },
   "file_extension": ".py",
   "mimetype": "text/x-python",
   "name": "python",
   "nbconvert_exporter": "python",
   "pygments_lexer": "ipython3",
   "version": "3.11.5"
  }
 },
 "nbformat": 4,
 "nbformat_minor": 5
}
