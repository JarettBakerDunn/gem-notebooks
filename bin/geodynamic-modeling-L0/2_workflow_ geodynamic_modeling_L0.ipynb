{
 "cells": [
  {
   "cell_type": "markdown",
   "metadata": {
    "id": "VkMa9uqXoFUj"
   },
   "source": [
    "## Modeling Workflow"
   ]
  },
  {
   "cell_type": "markdown",
   "metadata": {
    "id": "rUiXL9h0oFUm"
   },
   "source": [
    "A geodynamic modeling study encompasses different elements:\n",
    "\n",
    "<div align=\"center\">\n",
    "  <img src=\"images/geodynamic_modelling_procedure.png\" width=\"80%\">\n",
    "</div>\n",
    "                                                            \n",
    "                                                           "
   ]
  },
  {
   "cell_type": "markdown",
   "metadata": {
    "id": "uwE0DZJ2oFUo"
   },
   "source": [
    "<div style=\"text-align: right\">  &rarr; <b>NEXT:</b> <a href=\"3_scientific_method_geodynamic_modeling_L0.ipynb\">The Scientific Method</a> &nbsp;&nbsp;\n",
    "<img src=\"../assets/education-gem-notebooks_icon.png\" alt=\"icon\"  style=\"width:4%\"></div>"
   ]
  }
 ],
 "metadata": {
  "colab": {
   "provenance": []
  },
  "kernelspec": {
   "display_name": "Python 3",
   "language": "python",
   "name": "python3"
  },
  "language_info": {
   "codemirror_mode": {
    "name": "ipython",
    "version": 3
   },
   "file_extension": ".py",
   "mimetype": "text/x-python",
   "name": "python",
   "nbconvert_exporter": "python",
   "pygments_lexer": "ipython3",
   "version": "3.8.5"
  }
 },
 "nbformat": 4,
 "nbformat_minor": 4
}
