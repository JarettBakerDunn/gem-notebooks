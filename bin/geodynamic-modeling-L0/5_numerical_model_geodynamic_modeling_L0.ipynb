{
 "cells": [
  {
   "cell_type": "markdown",
   "metadata": {
    "id": "ZMitogCwEe_Z"
   },
   "source": [
    "## The Numerical Model"
   ]
  },
  {
   "cell_type": "markdown",
   "metadata": {
    "id": "iIYjq0_JEe_b"
   },
   "source": [
    "Often the problems under study are complex and cannot be studied analytically.  In these cases, numerical models are constructed using computational methods that embody the mathematical description of the physical model."
   ]
  },
  {
   "cell_type": "markdown",
   "metadata": {
    "id": "Ap0Z88ceEe_c"
   },
   "source": [
    "### Meshes in 2D\n",
    "\n",
    "In applying numerical methods, the solution is computed on a mesh. A mesh is a bounded domain that has been discretized into cells or elements. Nodes are the intersection of cell boundaries.\n",
    "\n",
    "<table style=\"border-collapse: collapse; border: none; font-size: 100%;\">\n",
    "  <tr>\n",
    "    <td style=\"width:25%; text-align:center\"> <img src=\"images/numerical_meshes.png\" ></td>\n",
    "      <td style=\"vertical-align:top; padding-top:70px; padding-right: 100px\"> (a) <b>Quadtree. </b>Quadtrees are data structures used to partition domains recursively. Squares can be divided into four child squares in 2D.  <br><br>\n",
    "           (b) <b>Quadtree with mesh refinement. </b>Child squares are used to partition the mesh where higher resolution is needed. In this case, the mesh is refined along the circular interface. <br><br>\n",
    "           (c) <b>Triangular.</b> Unstructured triangular messes can be constructed to conform to the interface.\n",
    "      </td>                        \n",
    "  </tr>\n",
    "</table>\n"
   ]
  },
  {
   "cell_type": "markdown",
   "metadata": {
    "id": "qeEFzWa6Ee_d"
   },
   "source": [
    "### Discretization\n",
    "\n",
    "The equations must be translated into a form that a computer can use. Rewriting the equations so they can be solved on a discrete number of points is called discretization. Certain methods are more suitable to certain types of science questions.\n",
    "The most popular methods are  **finite-element** (FEM), **finite-difference** (FDM) or **finite-volume method** (FVM).\n",
    "\n",
    "Other methods used include **spectral methods** (SEM), **boundary element method** (BEM), **discrete-element method** (DEM), **smoothed particle hydrodynamics method** (SPH), and the **radial basis function method** (RBF).\n",
    "\n"
   ]
  },
  {
   "cell_type": "markdown",
   "metadata": {
    "id": "nKA-CfgcEe_e"
   },
   "source": [
    "### Kinematics\n",
    "\n",
    "Method used to describe how the material in a model moves relative to the mesh include:\n",
    "\n",
    "* **Eulerian**. The material flows through a fixed mesh.\n",
    "* **Langrangian**. The mesh deforms with the computed flow.\n",
    "* **Langrangian-Eulerian** (ALE). As applied to geodynamics, the mesh conforms vertically to the free surface but remains fixed in the horizontal direction.\n",
    "\n",
    "Eulerian codes require a \"sticky air\" layer to study topography.\n",
    "\n",
    "<div align=\"center\">\n",
    "  <img src=\"images/kinematical_descriptions.png\" width=\"40%\">\n",
    "</div>"
   ]
  },
  {
   "cell_type": "markdown",
   "metadata": {
    "id": "m5vUo3a_Ee_f"
   },
   "source": [
    "### Solving the discretized equations\n",
    "Equations can often be converted into a system of linear equations that can be solved by matrix algebra. Linear systems can be solved directly (sparse matrix methods) or iteratively (incrementally improve the solution until a convergence criteria is met).\n",
    "\n",
    "Note that not all problems are linear and hence may require nonlinear solvers.\n"
   ]
  },
  {
   "cell_type": "markdown",
   "metadata": {
    "id": "K809fLoQEe_g"
   },
   "source": [
    "<div style=\"text-align: right\">  &rarr; <b>NEXT:</b> <a href=\"6_setup_geodynamic_modeling_L0.ipynb\">Model Setup</a> &nbsp;&nbsp;\n",
    "<img src=\"../assets/education-gem-notebooks_icon.png\" alt=\"icon\"  style=\"width:4%\">\n",
    "</div>"
   ]
  }
 ],
 "metadata": {
  "colab": {
   "provenance": []
  },
  "kernelspec": {
   "display_name": "Python 3",
   "language": "python",
   "name": "python3"
  },
  "language_info": {
   "codemirror_mode": {
    "name": "ipython",
    "version": 3
   },
   "file_extension": ".py",
   "mimetype": "text/x-python",
   "name": "python",
   "nbconvert_exporter": "python",
   "pygments_lexer": "ipython3",
   "version": "3.8.5"
  }
 },
 "nbformat": 4,
 "nbformat_minor": 4
}
