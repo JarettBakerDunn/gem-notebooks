{
 "cells": [
  {
   "cell_type": "markdown",
   "metadata": {
    "id": "YzODevaTq78F"
   },
   "source": [
    "## The Physical Model"
   ]
  },
  {
   "cell_type": "markdown",
   "metadata": {
    "id": "lzbbWowrq78I"
   },
   "source": [
    "The physical model is defined by a set of governing and constituitve equations that describe the process to be studied.\n",
    "\n",
    "### Governing equations\n",
    "The governing equations capture the basic physics of a system. In geodynamics, this is typically expressed as a series of conservation laws, which state that mass, momentum and energy are neither created nor destroyed.  \n",
    "\n",
    "\n"
   ]
  },
  {
   "cell_type": "markdown",
   "metadata": {
    "id": "ulkPvTfEq78J"
   },
   "source": [
    "<div align=\"center\">\n",
    "  <img src=\"images/conservation_equations.png\" width=\"80%\">\n",
    "</div>"
   ]
  },
  {
   "cell_type": "markdown",
   "metadata": {
    "id": "FwbW33ckq78K"
   },
   "source": [
    "In geodynamics:\n",
    "\n",
    "* **Conservation of mass** states that the rate of change of mass ($\\frac d\\rho/dt$) in a given volume of material must be compensated by an equal influx or outflux through the material, $\\nabla \\cdot (\\rho \\mathbf {v}$). Here, $\\rho$ is the mass density, $t$ is time, and $\\mathbf{v}$ is the velocity vector.\n",
    "\n",
    "* **Conservation of momentum** states that the sum of all forces acting on any parcel of material is zero. All forces are balanced. Here  $\\boldsymbol{\\sigma}$ is the stress tensor and ***g*** is the acceleration of gravity.\n",
    "\n",
    "* **Conservation of energy** is expressed here for conservation of thermal energy. Changes in thermal energy over time is balanced by how heat is transported through a combination of advection, conduction, other sources of heat, $S$, and internal heat production, e.g., volumetric radiogenic heat production, $H$. Here, $C_p$ is isobaric heat capacity, $p$ is pressure, $T$ is temperature, and $k$ is thermal conductivity.\n",
    "\n",
    "\n",
    "In applying these equations, different approximations can be made such that terms can be neglected or approximated to simpler forms."
   ]
  },
  {
   "cell_type": "markdown",
   "metadata": {
    "id": "FoE-dVTUq78L"
   },
   "source": [
    "### Constitutive equations\n",
    "\n",
    "The momentum equation above requires a description of how a material deforms to compute stress. Constitutive equations describe the behavior (i.e., rheology) of Earth materials subject to gravity and other sources of stress. Common rheological behavior includes:\n",
    "\n",
    "* **Viscous** materials deform by flowing in response to the applied stress. These materials are permanently deformed.\n",
    "\n",
    "* **Plastic** materials deform by an amount proportional to the applied stress but when a critical yield stress is reached, they flow and undergo permanent deformation.\n",
    "\n",
    "* **Elastic** materials deform under the applied stress but their deformation is recoverable.\n",
    "\n",
    "* **Brittle** materials fail and break in response to the applied stress. Deformation is irreversible.\n"
   ]
  },
  {
   "cell_type": "markdown",
   "metadata": {
    "id": "s9PvNDgVq78M"
   },
   "source": [
    "<div style=\"text-align: right\">  &rarr; <b>NEXT:</b> <a href=\"5_numerical_model_geodynamic_modeling_L0.ipynb\">The Numerical Model</a> &nbsp;&nbsp;\n",
    "<img src=\"../assets/education-gem-notebooks_icon.png\" alt=\"icon\"  style=\"width:4%\">\n",
    "</div>"
   ]
  },
  {
   "cell_type": "markdown",
   "metadata": {
    "id": "PlIJ_Pzpq78N"
   },
   "source": [
    "---\n",
    "\n",
    "## Extra\n",
    "\n",
    "Rheology lessons from [IRIS](https://www.iris.edu/hq/):\n",
    "* [Brittle vs. Ductile Rock](https://www.iris.edu/hq/inclass/lesson/brittle_vs_ductile_rocks)\n",
    "* [Rocks are elastic!](https://www.iris.edu/hq/inclass/lesson/elastic_rocks)\n",
    "* [Silly Putty 1](https://www.iris.edu/hq/inclass/lesson/silly_putty_1_brittle_ductile_and_elastic)\n",
    "* [Silly Putty 2](https://www.iris.edu/hq/inclass/lesson/silly_putty_or_oobleck__which_is_a_better_model_for_the_asthenosphere)"
   ]
  }
 ],
 "metadata": {
  "colab": {
   "provenance": []
  },
  "kernelspec": {
   "display_name": "Python 3",
   "language": "python",
   "name": "python3"
  },
  "language_info": {
   "codemirror_mode": {
    "name": "ipython",
    "version": 3
   },
   "file_extension": ".py",
   "mimetype": "text/x-python",
   "name": "python",
   "nbconvert_exporter": "python",
   "pygments_lexer": "ipython3",
   "version": "3.8.5"
  }
 },
 "nbformat": 4,
 "nbformat_minor": 4
}
