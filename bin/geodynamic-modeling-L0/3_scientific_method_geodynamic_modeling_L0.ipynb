{
 "cells": [
  {
   "cell_type": "markdown",
   "metadata": {
    "id": "yOPv9RUuoeaw"
   },
   "source": [
    "## The Scientific Method\n",
    "\n",
    "Theory, experimentation, and computation are considered the three pillars of science and form the core of the scientific method.\n",
    "\n",
    "1. Observation. What is our data?\n",
    "2. Question. What is the geological question we are asking?\n",
    "<div style=\" margin-left:5px\">\n",
    "     A scientific question must be defined, testable, and measurable.\n",
    " </div>\n",
    "\n",
    "3. Hypothesis. Make an educated guess.\n",
    "<div style=\" margin-left:5px\">\n",
    "     A good hypothesis is testable and can be proven wrong.  \"if a, then b.\"\n",
    "  </div>     \n",
    "4. Experiment. Design an experiment with dependent and independent variables.\n",
    "<div style=\" margin-left:5px\">\n",
    "   Your experiment can be physical or computational or both. Your results should be <a href=\"8_vv_geodynamic_modeling_L0.ipynb\">replicable</a> by others.\n",
    " </div>    \n",
    "5. Analyze. Was the hypothesis supported? Why or why not?\n",
    "6. Share. Publish your data so that others can learn from it.\n",
    "7. Repeat. Refine your hypothesis.\n"
   ]
  },
  {
   "cell_type": "markdown",
   "metadata": {
    "id": "2998igGooea1"
   },
   "source": [
    "<div align=\"center\">\n",
    "  <img src=\"images/2013-updated_scientific-method-steps_v6_noheader.png\" width=\"30%\"><br>\n",
    "    <p style=\"font-size: 60%; text-align: center\">Image Credit: Created by Amy Cowen for Science Buddies</p>\n",
    "</div>"
   ]
  },
  {
   "cell_type": "markdown",
   "metadata": {
    "id": "zI2xoEsroea2"
   },
   "source": [
    "For many problems in geodynamics, physical experiments are not possible due to their time or length scales or due to their complexity. In these cases, we turn to computational models to learn about long term evolution of complex systems (predictive) or understand their present state."
   ]
  },
  {
   "cell_type": "markdown",
   "metadata": {
    "id": "Zho0TZUloea4"
   },
   "source": [
    "<div style=\"text-align: right\">  &rarr; <b>NEXT:</b> <a href=\"4_physical_model_geodynamic_modeling_L0.ipynb\">The Physical Model</a>\n",
    " &nbsp;&nbsp;\n",
    "<img src=\"../assets/education-gem-notebooks_icon.png\" alt=\"icon\"  style=\"width:4%\">\n",
    "</div>"
   ]
  },
  {
   "cell_type": "markdown",
   "metadata": {
    "id": "imVA-YRkoea4"
   },
   "source": [
    "---\n",
    "### Extra\n",
    "\n",
    "<table style=\"width: 90%; font-size: 100%; text-align: center;\" >\n",
    "  <tr>\n",
    "    <td>\n",
    "     <i>There is no such thing as a failed experiment, because learning what doesn’t work is a necessary step to learning what does.</i> <br> Jonas Salk.\n",
    "     </td>\n",
    "  </tr>\n",
    "</table>\n",
    "\n",
    "The [Michelson-Morley Experiment](https://www.britannica.com/science/light/The-Michelson-Morley-experiment) is also known as the \"most famous **failed** experiment\".\n",
    "\n",
    "\n",
    "Learn about the quest for [cold fusion](https://undsci.berkeley.edu/cold-fusion-a-case-study-for-scientific-behavior/) and attempts to **reproduce** the Fleischmann-Pons experiment.\n"
   ]
  }
 ],
 "metadata": {
  "colab": {
   "provenance": []
  },
  "kernelspec": {
   "display_name": "Python 3",
   "language": "python",
   "name": "python3"
  },
  "language_info": {
   "codemirror_mode": {
    "name": "ipython",
    "version": 3
   },
   "file_extension": ".py",
   "mimetype": "text/x-python",
   "name": "python",
   "nbconvert_exporter": "python",
   "pygments_lexer": "ipython3",
   "version": "3.8.5"
  }
 },
 "nbformat": 4,
 "nbformat_minor": 4
}
