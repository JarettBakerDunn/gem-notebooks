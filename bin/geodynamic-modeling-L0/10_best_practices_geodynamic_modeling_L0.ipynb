{
 "cells": [
  {
   "cell_type": "markdown",
   "metadata": {
    "id": "or3lXLcrKVU_"
   },
   "source": [
    "\n",
    "## Best practices\n",
    "\n"
   ]
  },
  {
   "cell_type": "markdown",
   "metadata": {
    "id": "azSlJqp4KVVC"
   },
   "source": [
    "### Reproducibility and Replicability"
   ]
  },
  {
   "cell_type": "markdown",
   "metadata": {
    "id": "FZG_NBk9KVVD"
   },
   "source": [
    "Just like any other scientific study, numerical models should be reproducible and most importantly replicable.\n",
    "- Reproducible means that the same model on the same machine with the same code should produces the same results at the stated precision.\n",
    "- Replicable means researchers can obtain similar enough results from independent development - i.e., obtain the same conclusions using different research methodology.\n",
    "\n",
    "Reproducibility and replicability imply that the software used to conduct the study as well as the specific model setups, installation environment specifications, and post-processing workflow should be available to the rest of the scientific community. Increasingly, scientific journals are requesting or even requiring the publication of data and software along with the manuscript. Although the requirements vary per journal, it is good practice to adhere to these principles for every publication."
   ]
  },
  {
   "cell_type": "markdown",
   "metadata": {
    "id": "dAMdKinfKVVE"
   },
   "source": [
    "### Software and data management"
   ]
  },
  {
   "cell_type": "markdown",
   "metadata": {
    "id": "Q_DP0t5yKVVF"
   },
   "source": [
    "Code and data should be archived. The data here refers to both input and output data. Observational data can be made available to support the chosen modeling design and initial and boundary condition.\n",
    "\n",
    "Code and data archiving enables others finding, reusing, and extending the work.\n",
    "\n",
    "Proper research data management should address the following points:\n",
    "- description of data (metadata), their collection and production, and the reuse of existing datasets;\n",
    "- storage, backup, and security during the project;\n",
    "- legal and ethical requirements, as well as codes of conduct;\n",
    "- what, how, and where data will be stored, accessed, and identified; and\n",
    "- who will deposit and maintain the data."
   ]
  },
  {
   "cell_type": "markdown",
   "metadata": {
    "id": "53ftSFqQKVVG"
   },
   "source": [
    "There are plenty of repositories that can be used to archive data and code:\n",
    "- Institutional repositories.\n",
    "- Domain-specific repositories - e.g., [EarthChem](https://www.earthchem.org/), [EarthScope](https://www.earthscope.org/data/), [PANGAEA](https://www.pangaea.de/), and [HydroShare](https://www.hydroshare.org/).\n",
    "- General repositories - e.g., [figshare](https://figshare.com/), [Dryad](https://datadryad.org/stash), and [Zenodo](https://zenodo.org/).\n",
    "\n",
    "AGU provides a listing and description of [domain-discipline repositories](https://data.agu.org/resources/useful-domain-repositories). See also the [Generalist Repository Comparison Chart](https://doi.org/10.5281/zenodo.3946719) and https://www.re3data.org/.\n"
   ]
  },
  {
   "cell_type": "markdown",
   "metadata": {
    "id": "OhJ0e48kKVVG"
   },
   "source": [
    "All these repositories provide persistent identifier (PID) like a digital object identifier (DOI), which ensures the modeler can get credit for their coding efforts through citation of the code and/or data when used by others."
   ]
  },
  {
   "cell_type": "markdown",
   "metadata": {
    "id": "l79z4BXFKVVH"
   },
   "source": [
    "<div style=\"text-align: right\">  &rarr; <b>NEXT:</b> <a href=\"11_publishing_geodynamic_modeling_L0.ipynb\">Publishing</a> &nbsp;&nbsp;\n",
    "<img src=\"../assets/education-gem-notebooks_icon.png\" alt=\"icon\"  style=\"width:4%\">\n",
    "</div>"
   ]
  }
 ],
 "metadata": {
  "colab": {
   "provenance": []
  },
  "kernelspec": {
   "display_name": "Python 3",
   "language": "python",
   "name": "python3"
  },
  "language_info": {
   "codemirror_mode": {
    "name": "ipython",
    "version": 3
   },
   "file_extension": ".py",
   "mimetype": "text/x-python",
   "name": "python",
   "nbconvert_exporter": "python",
   "pygments_lexer": "ipython3",
   "version": "3.8.5"
  }
 },
 "nbformat": 4,
 "nbformat_minor": 4
}
