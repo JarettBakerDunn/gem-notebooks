{
 "cells": [
  {
   "cell_type": "markdown",
   "metadata": {
    "id": "iK_W7_eOGfpB"
   },
   "source": [
    "## Model Setup\n",
    "Many choices must be made when constructing a model. The numerical model (code) and your model setup are chosen to support your hypothesis and type of study.\n"
   ]
  },
  {
   "cell_type": "markdown",
   "metadata": {
    "id": "3mBO5bK5GfpE"
   },
   "source": [
    "Before designing a model, one needs to:\n",
    "- have a good understanding of the numerical code;\n",
    "- have a good understanding of the Earth's system of interest;\n",
    "- define a solid hypothesis."
   ]
  },
  {
   "cell_type": "markdown",
   "metadata": {
    "id": "SmAVw7WOGfpG"
   },
   "source": [
    "<table style=\"border-collapse: collapse; border: none; font-size:100%\">\n",
    "  <tr>\n",
    "    <td style=\"width: 7%\" align=\"center\"> <img src=\"../assets/icon_important.png\"> </td>\n",
    "    <td>\n",
    "    <b>Important:</b>  Keep in mind that a numerical code can be verified, while a numerical model cannot be verified! See <a href=\"8_vv_geodynamic_modeling_L0.ipynb\">Validation and Verification</a> for more on code verification and model validation.</td>\n",
    "                        \n",
    " &nbsp;&nbsp;\n",
    "  </tr>\n",
    "</table>"
   ]
  },
  {
   "cell_type": "markdown",
   "metadata": {
    "id": "Vqiudh70GfpH"
   },
   "source": [
    "### Modeling philosophies\n",
    "\n",
    "**Specific modeling** aims to investigate and understand a specific geodynamic system, and relies on:\n",
    "- specific observations from a specific study area;\n",
    "- a hypothesis about the controlling process(es).\n",
    "\n",
    "The model needs to produce observations, based on the hypothetical controlling process(es), and physically link the two. Models should not be oversimplified."
   ]
  },
  {
   "cell_type": "markdown",
   "metadata": {
    "id": "RUbyH7bzGfpI"
   },
   "source": [
    "**Generic modeling** aims at understanding the regimes of general behaviour of a geodynamic system and requires:\n",
    "- general first-order observations;\n",
    "- a hypothesis about the controlling parameters and their possible range.\n",
    "\n",
    "Model assumptions should be defined."
   ]
  },
  {
   "cell_type": "markdown",
   "metadata": {
    "id": "mTPmYpawGfpJ"
   },
   "source": [
    "<table style=\"border-collapse: collapse; border: none; font-size:100%\">\n",
    "  <tr>\n",
    "    <td style=\"width: 7%\" align=\"center\"> <img src=\"../assets/icon_important.png\"> </td>\n",
    "    <td>\n",
    "    <b>Important:</b> There is no guarantee that the hypothetical controlling process(es) is the actual, or the only, controlling process(es)! A sensitivity analysis study can help in this regard.</td>\n",
    "                        \n",
    "  </tr>\n",
    "</table>"
   ]
  },
  {
   "cell_type": "markdown",
   "metadata": {
    "id": "euUQmHEpGfpJ"
   },
   "source": [
    "<div align=\"center\">\n",
    "<img src=\"images/modelling_philosophies.png\" width=\"80%\">\n",
    "     </div>"
   ]
  },
  {
   "cell_type": "markdown",
   "metadata": {
    "id": "OOE0rrnPGfpK"
   },
   "source": [
    "### Simplification"
   ]
  },
  {
   "cell_type": "markdown",
   "metadata": {
    "id": "KIVXj4vcGfpL"
   },
   "source": [
    "A model, by definition, is a simplified representation of a the vastly complex Earth. The challenge in designing and setting up a model is to reconcile such complexity with an acceptable level of simplification. Thus, it is fundamental for a geodynamic modeler to find the appropriate middle ground between a model that is too complex and a model that is oversimplified."
   ]
  },
  {
   "cell_type": "markdown",
   "metadata": {
    "id": "ffBcRYUTGfpN"
   },
   "source": [
    "<div align=\"center\">\n",
    "<img src=\"images/simplification_1.png\" width=\"80%\">\n",
    "    </div>"
   ]
  },
  {
   "cell_type": "markdown",
   "metadata": {
    "id": "3Pd91Vu5GfpO"
   },
   "source": [
    "In order to achieve an optimally simplified model, we need a good understanding of:\n",
    "1. the purpose of the model,\n",
    "2. the capabilities of the numerical code, and\n",
    "3. the hypothesis to be tested."
   ]
  },
  {
   "cell_type": "markdown",
   "metadata": {
    "id": "oGEE3sBDGfpO"
   },
   "source": [
    "<table style=\"border-collapse: collapse; border: none; font-size:100%; \">\n",
    "  <tr>\n",
    "    <td style=\"width: 7%\" align=\"center\"> <img src=\"../assets/icon_important.png\"> </td>\n",
    "    <td>\n",
    "    <b>Important:</b> A simple model is often better than a complex model. A simple model is clearer to understand, clearer to communicate, and relies on fewer assumptions. However, a model can be too simple such that it no longer resembles the problem of interest.</td>\n",
    "                        \n",
    "  </tr>\n",
    "</table>"
   ]
  },
  {
   "cell_type": "markdown",
   "metadata": {
    "id": "QmExHLQlGfpP"
   },
   "source": [
    "**What and how to simplify?**\n",
    "\n",
    "* Physical model: natural processes can be either reproduced, parameterised, or neglected.\n",
    "* Numerical adjustment: e.g., model geometry (3D -> 2D -> 1D, spherical vs cartesian); temporal extent (time-dependent vs instantaneous).\n",
    "* Initial and boundary conditions: e.g., heterogeneous vs. homogeneous initial conditions; dynamic vs. kinematic boundary conditions.\n"
   ]
  },
  {
   "cell_type": "markdown",
   "metadata": {
    "id": "Cv3qMky5GfpP"
   },
   "source": [
    "\n",
    "<div align=\"center\">\n",
    "    <img width-\"80%\" src=\"images/simplification_2.png\">\n",
    "</div>"
   ]
  },
  {
   "cell_type": "markdown",
   "metadata": {
    "id": "3d3-72jPGfpP"
   },
   "source": [
    "<div style=\"text-align: right\">  &rarr; <b>NEXT:</b> <a href=\"7_bi_conditions_geodynamic_modeling_L0.ipynb\">Boundary and Initial Conditions</a>\n",
    " &nbsp;&nbsp;\n",
    "<img src=\"../assets/education-gem-notebooks_icon.png\" alt=\"icon\"  style=\"width:4%\">\n",
    "</div>"
   ]
  }
 ],
 "metadata": {
  "colab": {
   "provenance": []
  },
  "kernelspec": {
   "display_name": "Python 3",
   "language": "python",
   "name": "python3"
  },
  "language_info": {
   "codemirror_mode": {
    "name": "ipython",
    "version": 3
   },
   "file_extension": ".py",
   "mimetype": "text/x-python",
   "name": "python",
   "nbconvert_exporter": "python",
   "pygments_lexer": "ipython3",
   "version": "3.8.5"
  }
 },
 "nbformat": 4,
 "nbformat_minor": 4
}
