{
 "cells": [
  {
   "cell_type": "markdown",
   "metadata": {
    "id": "xK553I2taBxp"
   },
   "source": [
    "<br>\n",
    "\n",
    "\n",
    "<table style=\"width: 70%; border-collapse: collapse; border: none; margin-left:60px\">\n",
    "  <tr>\n",
    "    <td style=\"width: 20%\" align=\"center\"> <img src=\"../assets/education-gem-notebooks_icon.png\" alt=\"icon\"  width=\"80%\" ></td>\n",
    "    <td> <h1 style=\"text-align: center;\"> CIG-GEM Education Notebook</h1>   \n",
    "         <h1 style=\"text-align: center;\">Basics of Geodynamic Modeling</h1>\n",
    "         <h2 style=\"text-align: center;\">Foundational Level (L0)</h2>        \n",
    "         <h3 style=\"text-align: center;\">v0.1</h3>  </td>                        \n",
    "  </tr>\n",
    "</table>\n",
    "\n",
    "\n",
    "<h4 style=\"margin-left:20px\"><i> Authors: Mohamed Gouiza, Iris van Zelst, and Lorraine J. Hwang with contributions from the CIG Education Working Group</h4>\n",
    "<br>\n",
    "<img src=\"../assets/cig-logo.png\" alt=\"cig icon\" width=\"10%\">\n",
    "\n",
    "[![License: GPLv3](https://img.shields.io/badge/License-GPLv3-blue)](LICENSE)\n",
    "\n",
    "***"
   ]
  },
  {
   "cell_type": "markdown",
   "metadata": {
    "id": "yV4dKP2UaBxt"
   },
   "source": [
    "## Description\n",
    "\n",
    "An introduction to the topic of geodynamics modeling based on [Zelst et al. (2022)](https://doi.org/10.5194/se-13-583-2022).\n",
    "\n",
    "## Learning objectives\n",
    "\n",
    "Upon completion of this module, you should be familiar with:\n",
    "  * the terminology, philosophy, and procedures of geodynamic modeling as applied to the solid Earth\n",
    "\n",
    "## Prerequisites\n",
    "\n",
    "This module does not require any specific knowledge, but it is useful to have some knowledge of the Earth sciences and basic concepts in physics and computing.\n",
    "\n",
    "***"
   ]
  },
  {
   "cell_type": "markdown",
   "metadata": {
    "id": "tZB9f6vwaBxu"
   },
   "source": [
    "## Table of Contents\n",
    " * [Why Geodynamic Modeling?](1_intro_geodynamic_modeling_L0.ipynb)\n",
    " * [Modeling Workflow](2_workflow_geodynamic_modeling_L0.ipynb)\n",
    " * [The Scientific Method](3_scientific_method_geodynamic_modeling_L0.ipynb)\n",
    " * [The Physical Model](4_physical_model_geodynamic_modeling_L0.ipynb)\n",
    " * [The Numerical Model](5_numerical_model_geodynamic_modeling_L0.ipynb)\n",
    " * [Model Setup](6_setup_geodynamic_modeling_L0.ipynb)\n",
    "   * [Boundary and Initial Conditions](7_bi_conditions_geodynamic_modeling_L0.ipynb)\n",
    " * [Verification and Validation](8_vv_geodynamic_modeling_L0.ipynb)\n",
    " * [Model Analysis](9_analysis_geodynamic_modeling_L0.ipynb)\n",
    " * [Best Practices](10_best_practices_geodynamic_modeling_L0.ipynb)\n",
    " * [Publishing](11_publishing_geodynamic_modeling_L0.ipynb)"
   ]
  },
  {
   "cell_type": "markdown",
   "metadata": {
    "id": "aEcjcP1zaBxv"
   },
   "source": [
    "***\n",
    "## Acknowledgements\n",
    "\n",
    "Course materials are based on:\n",
    "\n",
    "Gouiza, M., Introduction to Geodynamic Modelling with ASPECT, University Mohammed VI Polytechnic, Ben Guérir, Morocco, 18–20 October 2023, https://geodynamics.org/events/details/326, 2023.       ***IS THERE A BETTER CITATION???*** *AS: I didn't find any other citation.*\n",
    "\n",
    "van Zelst, I., Crameri, F., Pusok, A. E., Glerum, A., Dannberg, J., and Thieulot, C.: 101 geodynamic modelling: how to design, interpret, and communicate numerical studies of the solid Earth, Solid Earth, 13, 583–637, https://doi.org/10.5194/se-13-583-2022, 2022."
   ]
  },
  {
   "cell_type": "markdown",
   "metadata": {
    "id": "oPpb6vtbaBxx"
   },
   "source": [
    "<div style=\"text-align: right\">  &rarr; <b>NEXT:</b> <a href=\"1_intro_geodynamic_modeling_L0.ipynb\">Why Geodynamic Modeling?</a></div>"
   ]
  }
 ],
 "metadata": {
  "colab": {
   "provenance": []
  },
  "kernelspec": {
   "display_name": "Python 3",
   "language": "python",
   "name": "python3"
  },
  "language_info": {
   "codemirror_mode": {
    "name": "ipython",
    "version": 3
   },
   "file_extension": ".py",
   "mimetype": "text/x-python",
   "name": "python",
   "nbconvert_exporter": "python",
   "pygments_lexer": "ipython3",
   "version": "3.8.5"
  }
 },
 "nbformat": 4,
 "nbformat_minor": 4
}
