{
 "cells": [
  {
   "cell_type": "markdown",
   "id": "bfec1c83-9384-4796-902c-d750d13f348b",
   "metadata": {
    "id": "bfec1c83-9384-4796-902c-d750d13f348b"
   },
   "source": [
    "<br>\n",
    "\n",
    "\n",
    "<table style=\"width: 70%; border-collapse: collapse; border: none; margin-left:60px\">\n",
    "  <tr>\n",
    "    <td style=\"width: 20%\" align=\"center\"> <img src=\"../assets/education-gem-notebooks_icon.png\" alt=\"icon\"  width=\"80%\" ></td>\n",
    "    <td> <h1 style=\"text-align: center;\">CIG-GEM Education Notebook</h1>   \n",
    "         <h1 style=\"text-align: center;\">Basics of Mantle Dynamics</h1>\n",
    "         <h2 style=\"text-align: center;\">Foundational Level (L0)</h2>        \n",
    "         <h3 style=\"text-align: center;\">v0.1</h3>  </td>                        \n",
    "  </tr>\n",
    "</table>\n",
    "\n",
    "\n",
    "<h4 style=\"margin-left:20px\"><i> Authors: Jarett Baker-Dunn and Arushi Saxena with contributions from the CIG Education Working Group</h4>\n",
    "<br>\n",
    "<img src=\"../assets/cig-logo.png\" alt=\"cig icon\" width=\"10%\">\n",
    "\n",
    "[![License: GPLv3](https://img.shields.io/badge/License-GPLv3-blue)](LICENSE)\n",
    "\n",
    "***\n",
    "------------------------------"
   ]
  },
  {
   "cell_type": "markdown",
   "id": "4fafd930-00d8-4fad-8a64-5ade7bd97a40",
   "metadata": {
    "id": "4fafd930-00d8-4fad-8a64-5ade7bd97a40",
    "tags": []
   },
   "source": [
    "## Description\n",
    "\n",
    "This module uses a community software ASPECT to describe the dominant mechanisms of heat transport inside the Earth's mantle—conduction and convection.\n",
    "\n",
    "## Learning Objectives\n",
    "\n",
    "###  Scientific\n",
    "Upon completion of this module, you should be familiar with:\n",
    "  * Driving forces of the plates\n",
    "  * How the values of dimensionless numbers—Rayleigh number and Nusselt number—govern convective and conductive heat transport mechanisms in the Earth's mantle\n",
    "  * Different tectonic regimes\n",
    "  * Mantle plumes\n",
    "\n",
    "### Technical\n",
    "Upon completion of this module you should:\n",
    "  * Be able to run ASPECT from the command line\n",
    "  * Understand the basic layout of model simulation file\n",
    "  * Be able to visualize simulation results\n",
    "\n",
    "## Prerequisites\n",
    "\n",
    "  * Installed ASPECT (> version 2.2)\n",
    "  * Basic knowledge of python modules (Matplotlib, pandas, SciPy) for scientific computing and analysis\n",
    "  * Fundamentals of heat transport mechanisms inside the Earth\n",
    "\n",
    "## Dependencies\n",
    "- Python (> version 3.3) with the following libraries installed:\n",
    "  * SciPy\n",
    "  * Matplotlib\n",
    "  * pandas\n",
    "  * NumPy\n",
    "  * PyTables\n",
    "  * glob\n",
    " \n",
    "- ASPECT (> version 2.0) installed locally or using the ASPECT Jupyter notebook on the CIG HUBZero platform [here](https://geodynamics.org/resources/tools)"
   ]
  },
  {
   "cell_type": "markdown",
   "id": "8c42746c",
   "metadata": {
    "id": "8c42746c"
   },
   "source": [
    "## Table of Contents\n",
    " * [ASPECT philosophy](./1_ASPECT_philosophy.ipynb)\n",
    "   * [Understanding the parameter file](./1-1_understanding_the_parameter_file.ipynb)\n",
    " * [Plate tectonics and basic equations](./2_plate_tectonics_and_basic_equations.ipynb)\n",
    " * [Convection in a box model](./3_convection_in_box_model.ipynb)\n",
    " * [Rayleigh Nusselt Relationship](./4_Rayleigh_Nusselt_Relationship.ipynb)\n",
    " * [Different tectonic regimes](./5_different_tectonic_regimes.ipynb)\n"
   ]
  },
  {
   "cell_type": "markdown",
   "id": "61b819f4",
   "metadata": {
    "id": "61b819f4"
   },
   "source": [
    "***\n",
    "## Acknowledgements\n",
    "\n",
    "Course materials are modified from the tectonics modeling workshop in 2020 led by ASPECT developers—Wolfgang Bangerth,\n",
    "Juliane Dannberg, Menno Fraters, Rene Gassmoeller, Anne Glerum, Timo Heister, Bob Myhill, John Naliboff, and\n",
    "Cedric Thieulot. The original slides and the material are available in the [GitHub repository](https://github.com/gassmoeller/aspect-tutorials)."
   ]
  },
  {
   "cell_type": "markdown",
   "id": "7514e076-9e80-4bf3-96a9-eea784624584",
   "metadata": {
    "id": "7514e076-9e80-4bf3-96a9-eea784624584"
   },
   "source": [
    " &nbsp;<div style=\"text-align: right\">  \n",
    "    &rarr; <b>NEXT: [ASPECT philosophy](./1_ASPECT_philosophy.ipynb) </b> <a href=\"\"></a> &nbsp;&nbsp;\n",
    "     <img src=\"../assets/education-gem-notebooks_icon.png\" alt=\"icon\"  style=\"width:4%\">\n",
    "  </div>"
   ]
  }
 ],
 "metadata": {
  "colab": {
   "provenance": []
  },
  "kernelspec": {
   "display_name": "Python 3 (ipykernel)",
   "language": "python",
   "name": "python3"
  },
  "language_info": {
   "codemirror_mode": {
    "name": "ipython",
    "version": 3
   },
   "file_extension": ".py",
   "mimetype": "text/x-python",
   "name": "python",
   "nbconvert_exporter": "python",
   "pygments_lexer": "ipython3",
   "version": "3.11.5"
  }
 },
 "nbformat": 4,
 "nbformat_minor": 5
}
