{
 "cells": [
  {
   "cell_type": "markdown",
   "id": "46148f74",
   "metadata": {
    "id": "46148f74"
   },
   "source": [
    "## Onset of Convection\n",
    "\n",
    "As described in the previous notebook, the Rayleigh number (Ra), describes the vigor of convection as:\n",
    "\n",
    "\\begin{align}\n",
    "    Ra = \\frac{\\rho_0 g {\\alpha}{\\Delta}T D^3}{{\\eta}k}\n",
    "\\end{align}\n",
    "\n",
    "It is important to note that below a critical value for a fluid (for the Earth's mantle, $\\sim$ 1000), the disturbances decay over time and the fluid layer does not convect. In this case, heat is transferred purely by conduction. Above this critical value, heat is transported by convection\n",
    "\n",
    "We can reformulate the above equation such that:\n",
    "\n",
    "\\begin{align}\n",
    "    {\\Delta}T = \\frac{{\\eta}k Ra_{crit}} {\\rho_0 g {\\alpha} D^3}\n",
    "\\end{align}\n",
    "\n",
    "This suggests that a linear relationship exists between $\\Delta T$ and $\\eta$ for the line of onset of convection\n",
    "\n",
    "### Tectonic Regimes\n",
    "Convection is linked closely to the lithospheric plates, and therefore, to the mobility of the attached plates. It is possible that even with a high convective vigor in the mantle (high Ra), the plates of some planets will not be mobile, and the planet will not have plate tectonics.\n",
    "\n",
    "For planetary bodies to have plate tectonics, it is important that the convective stresses are larger than the yield stress of the lithosphere.  If the convective stresses are not enough to overcome the lithospheric yield stress, the  planet's plates will not break and form boundaries with surface motion. These bodies exihibit *Stagnant lid convection* (e.g., present-day Mars and Venus). Some planetary bodies may also have \"heat pipe\" regime, where the magma erupts to the surface in narrow vertical channels through the lithosphere, e.g., Io.\n",
    "\n",
    "The following figure illustrates some of the different tectonic regimes:\n"
   ]
  },
  {
   "cell_type": "markdown",
   "id": "a8c4e1b7",
   "metadata": {},
   "source": [
    "<figure>\n",
    "<img src=\"images/mantle_convection_regimes.png\" width=\"600\"/>\n",
    "    <figcaption align = \"center\"> Image source: Anna Gülcher (2023) through  CC BY-NC-SA 4.0. </figcaption>  \n",
    "</figure>"
   ]
  },
  {
   "cell_type": "code",
   "execution_count": null,
   "id": "0d3a341a",
   "metadata": {},
   "outputs": [],
   "source": []
  }
 ],
 "metadata": {
  "colab": {
   "provenance": []
  },
  "kernelspec": {
   "display_name": "Python 3 (ipykernel)",
   "language": "python",
   "name": "python3"
  },
  "language_info": {
   "codemirror_mode": {
    "name": "ipython",
    "version": 3
   },
   "file_extension": ".py",
   "mimetype": "text/x-python",
   "name": "python",
   "nbconvert_exporter": "python",
   "pygments_lexer": "ipython3",
   "version": "3.11.5"
  }
 },
 "nbformat": 4,
 "nbformat_minor": 5
}
