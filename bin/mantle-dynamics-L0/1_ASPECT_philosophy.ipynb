{
 "cells": [
  {
   "cell_type": "markdown",
   "id": "31032767",
   "metadata": {},
   "source": [
    "## What is ASPECT?\n",
    "\n",
    "ASPECT stands for the \"Advanced Solver for Problems in Earth's ConvecTion.\" ASPECT was originally intended to simulate *Mantle Convection:* the flow of viscous liquid. Now, ASPECT can also be used for tectonic modeling and  and includes functionality for elastoviscoplastic rheology, melting, free surfaces, and more. More information about ASPECT and it's philosophy can be found in [this](https://github.com/geodynamics/aspect/blob/main/cookbooks/convection-box/tutorial-onset-of-convection/notebooks/tutorial_intro.ipynb) notebook.\n",
    "\n",
    "### Using ASPECT\n",
    "ASPECT is a command line tool. ASPECT is driven by text-based input files which use the .prm extension. The functionality of ASPECT can be extended using \"plug-in\" codes written in C++. ASPECT outputs text-based \"statistics\" files along with files that allow visualizations. Using the command line tool, writing input files, and interpreting output files will be demonstrated later in this tutorial.\n",
    "\n",
    "### Installation\n",
    "There are a number of ways to install ASPECT. Please refer to the ASPECT [manual](https://aspect-documentation.readthedocs.io/en/latest/user/install/index.html) for help installing ASPECT. If you are using the HUBzero environment with ASPECT, you would not need to install ASPECT."
   ]
  },
  {
   "cell_type": "markdown",
   "id": "5e182de7",
   "metadata": {},
   "source": [
    "## ASPECT Parameter File\n",
    "ASPECT models are described through parameter files that determine (i) discretization details, (ii) initial conditions, (iii) boundary conditions, and more. The following diagrams can help to think about the relationship between the input files and the ASPECT run as a whole. \n",
    "   \n",
    "![ASPECT-4](images/aspect-4.png)     \n",
    "   \n",
    "![ASPECT-5](images/aspect-5.png)  "
   ]
  },
  {
   "cell_type": "markdown",
   "id": "ebe452aa",
   "metadata": {},
   "source": [
    "---------\n",
    "\n",
    "The following diagram highlights in red the elements of an ASPECT run which are described by the input files:\n",
    "\n",
    "![ASPECT-6](images/aspect-6.png) "
   ]
  },
  {
   "cell_type": "markdown",
   "id": "97867c45",
   "metadata": {},
   "source": [
    " &nbsp;<div style=\"text-align: right\">  \n",
    "    &rarr; <b>NEXT: [Understanding the parameter file](./2_understanding_parameter_file.ipynb) </b> <a href=\"\"></a> &nbsp;&nbsp;\n",
    "     <img src=\"../assets/education-gem-notebooks_icon.png\" alt=\"icon\"  style=\"width:4%\">\n",
    "  </div>"
   ]
  }
 ],
 "metadata": {
  "kernelspec": {
   "display_name": "Python 3 (ipykernel)",
   "language": "python",
   "name": "python3"
  },
  "language_info": {
   "codemirror_mode": {
    "name": "ipython",
    "version": 3
   },
   "file_extension": ".py",
   "mimetype": "text/x-python",
   "name": "python",
   "nbconvert_exporter": "python",
   "pygments_lexer": "ipython3",
   "version": "3.11.5"
  }
 },
 "nbformat": 4,
 "nbformat_minor": 5
}
