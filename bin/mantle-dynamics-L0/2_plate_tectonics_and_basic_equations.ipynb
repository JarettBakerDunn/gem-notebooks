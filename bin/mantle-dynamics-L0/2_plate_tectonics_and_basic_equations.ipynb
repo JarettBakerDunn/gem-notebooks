{
 "cells": [
  {
   "cell_type": "markdown",
   "id": "bf22d7a6",
   "metadata": {
    "id": "bf22d7a6"
   },
   "source": [
    "## Plate tectonics\n",
    "\n",
    "Plate tectonics can explain:\n",
    " * How plates move\n",
    " * Provide a basic explanation for mountains/basins, volcanoes and earthquakes\n",
    "\n",
    "The illustration below shows mantle convection cell and the associated plate tectonics :\n",
    "\n",
    "<figure>\n",
    "<img src=\"images/mantle_convection_cell.png\" width=\"400\"/>\n",
    "<figcaption align = \"center\"> Image source: Byrd Polar Research Center at Ohio State University </figcaption>  \n",
    "</figure>\n",
    "\n",
    "\n",
    "### Plate driving forces\n",
    "\n",
    "The main forces acting on the plates are:\n",
    "\n",
    "* **Slab pull**  : The negative buoyancy of the oceanic lithosphere as it sinks into the mantle\n",
    "* **Ridge push** : The gravitational sliding of the lithosphere over an asthenosphere at the elevated mid-oceanic ridge\n",
    "* **Transform fault friction** : The resistance between the plates at the transform boundary as they slide relative to each other\n",
    "* **Mantle drag** : The force acting at the base of the plates\n",
    "* **Suction** : The negative pressure suction created as the subducting plate displaces the existing mantle material. This suction pulls the overriding plate towards the trench.  \n",
    "\n",
    "<figure>\n",
    "<img src=\"images/plate_driving_forces.png\" width=\"400\"/>\n",
    "<figcaption align = \"center\"> Image source: Forsyth and Uyeda (1975). The forces marked in green and red represent the driving and the resisting plate forces, respectively. Mantle drag can be either resistive or driving depending on the direction of mantle flow relative to the overlying plate motion. </figcaption>  \n",
    "</figure>\n"
   ]
  },
  {
   "cell_type": "markdown",
   "id": "a0b379b1",
   "metadata": {
    "id": "a0b379b1"
   },
   "source": [
    "## Modeling global mantle flow\n",
    "\n",
    "The forces above can be described mathematically as :\n",
    "\n",
    "* Density differences in the gravity field: $\\mathbf{f} = \\rho \\mathbf{g}$\n",
    "* Frictional forces: $\\mathbf{f} = \\nabla \\cdot \\mathbf{g}$\n",
    "* Pressure gradients: $\\mathbf{f} = \\nabla p$\n",
    "\n",
    "Assuming the mantle to be a viscous Newtonian fluid, we can describe the stresses as, $\\tau = 2 \\eta \\dot{\\epsilon}$, where $\\eta$ is the viscosity of the fluid and $\\dot{\\epsilon}$ is the rate of deformation of the fluid.\n",
    "\n",
    "### Momentum balance equation\n",
    "\n",
    "The balance between the driving and resisting forces is :\n",
    "\n",
    "\\begin{align}\n",
    "    -\\nabla \\cdot (2 \\eta \\dot{\\epsilon}) + \\nabla p = \\rho \\mathbf{g}\n",
    "\\end{align}\n",
    "\n",
    "The above equation is also referred to as the Navier-Stokes equation that describe the fluid velocity, $\\mathbf{u}$, and how it evolves with time under the given forces.\n",
    "\n",
    "### Mass conservation\n",
    "The total mass always stays the same; if the rock is compressed then its density increases:\n",
    "\n",
    "\\begin{align}\n",
    "    -\\nabla \\cdot (\\rho \\mathbf{u}) = 0,\n",
    "\\end{align}"
   ]
  },
  {
   "cell_type": "markdown",
   "id": "e64e63fc",
   "metadata": {
    "id": "e64e63fc"
   },
   "source": [
    " &nbsp;<div style=\"text-align: right\">  \n",
    "    &rarr; <b>NEXT: [Convection in a box model](./3_convection_in_box_model.ipynb) </b> <a href=\"\"></a> &nbsp;&nbsp;\n",
    "     <img src=\"../assets/education-gem-notebooks_icon.png\" alt=\"icon\"  style=\"width:4%\">\n",
    "  </div>"
   ]
  }
 ],
 "metadata": {
  "colab": {
   "provenance": []
  },
  "kernelspec": {
   "display_name": "Python 3 (ipykernel)",
   "language": "python",
   "name": "python3"
  },
  "language_info": {
   "codemirror_mode": {
    "name": "ipython",
    "version": 3
   },
   "file_extension": ".py",
   "mimetype": "text/x-python",
   "name": "python",
   "nbconvert_exporter": "python",
   "pygments_lexer": "ipython3",
   "version": "3.11.5"
  }
 },
 "nbformat": 4,
 "nbformat_minor": 5
}
