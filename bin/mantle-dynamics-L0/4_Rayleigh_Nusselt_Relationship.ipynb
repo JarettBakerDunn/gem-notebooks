{
 "cells": [
  {
   "cell_type": "markdown",
   "id": "4606b260",
   "metadata": {
    "id": "4606b260"
   },
   "source": [
    "## Rayleigh–Nusselt Relationship\n",
    "\n",
    "### Rayleigh number\n",
    "\n",
    "The expected degree of convection is described by a dimensionless number, Rayleigh Number (Ra):\n",
    "\n",
    "\\begin{align}\n",
    "    Ra = \\frac{\\Delta\\rho D^3}{{\\eta}k} = \\frac{\\rho_0 g {\\alpha}{\\Delta}T D^3}{{\\eta}k}\n",
    "\\end{align}\n",
    "\n",
    "Here, $\\Delta \\rho$ is the density difference of the convecting material, approximated using the reference density, $\\rho_0$, the thermal expansivity of the material, $\\alpha$, and temprature difference of the material with the surroundings, ${\\Delta}T$. The length scale, thermal conductivity, and the viscosity of the convecting fluid is $D$, $k$, and $\\eta$, respectively.\n",
    "\n",
    "Therefore, the Rayleigh number physically represents the ratio of the convective to the conductive vigor. In practice, the value of Ra can be understood by the following example scenarios:\n",
    "\n",
    "* A cubic millimeter of honey will not convect for a temperature difference of 100K BUT a cubic kilometer of honey may.\n",
    "*  A cubic kilometer of honey will not convect for a temperature difference of 0.1K BUT it may with a temperature difference of 100K\n",
    "\n",
    "In summary, as the Rayleigh number increase, convection becomes more vigorous, and more heat is transported convectively.\n",
    "\n",
    "### Nusselt Number\n",
    "\n",
    "The \"Nusselt Number\" represents the ratio of the total heat transfer to the conductive heat tranfer through a boundary. The Rayleigh number has a known empirical relationship with the Nusselt number: $Nu \\approx Ra^\\frac{1}{3} $"
   ]
  },
  {
   "cell_type": "markdown",
   "id": "8749ccea",
   "metadata": {
    "id": "8749ccea"
   },
   "source": [
    "### Exercise: Conduction vs Convection\n",
    "To understand the predominace of convective vs. conductive heat transport, let's modify the Ra number by playing with one of the parameters (viscosity)!\n",
    "This can be done in the *subsection Material model* of the input .prm file, by modifying the viscosity value.\n",
    "\n",
    "For example, halve the default value :\n",
    "\n",
    "`set Viscosity = 2.5e24`\n",
    "\n",
    "Other default material properties to play with in the input file are:\n",
    "\n",
    "  * $\\rho_{0}$ = 3300,\n",
    "  * g  = 9.81,\n",
    "  * $\\alpha$ = $2*10^{-5}$\n",
    "  * $\\Delta T$ = (3600-273) = 3327,\n",
    "  * D = $3*10^{6}$\n",
    "  * $k$ = 4.7\n",
    "  * $c_{p}$ = 1250"
   ]
  },
  {
   "cell_type": "markdown",
   "id": "re1xnzwFNjLF",
   "metadata": {
    "id": "re1xnzwFNjLF"
   },
   "source": [
    "<figure>\n",
    "<img src=\"images/exercise.png\" width=\"1400\"/>\n",
    "    <figcaption align = \"center\"> Modeled temperature field at the last time step for different viscosity values. The white contour is at temperature value of 1900 K to approximately delineate the shape of the convection cell in each of the model runs. Notice that with higher viscosity the convection cell has a narrower tail and a more diffused head. </figcaption>  \n",
    "</figure>"
   ]
  },
  {
   "cell_type": "markdown",
   "id": "ArvZpz_5tL2_",
   "metadata": {
    "id": "ArvZpz_5tL2_"
   },
   "source": [
    " &nbsp;<div style=\"text-align: right\">  \n",
    "    &rarr; <b>NEXT: [Different tectonic regimes](./5_different_tectonic_regimes.ipynb) </b> <a href=\"\"></a> &nbsp;&nbsp;\n",
    "     <img src=\"../assets/education-gem-notebooks_icon.png\" alt=\"icon\"  style=\"width:4%\">\n",
    "  </div>"
   ]
  }
 ],
 "metadata": {
  "colab": {
   "provenance": []
  },
  "kernelspec": {
   "display_name": "Python 3 (ipykernel)",
   "language": "python",
   "name": "python3"
  },
  "language_info": {
   "codemirror_mode": {
    "name": "ipython",
    "version": 3
   },
   "file_extension": ".py",
   "mimetype": "text/x-python",
   "name": "python",
   "nbconvert_exporter": "python",
   "pygments_lexer": "ipython3",
   "version": "3.11.5"
  }
 },
 "nbformat": 4,
 "nbformat_minor": 5
}
