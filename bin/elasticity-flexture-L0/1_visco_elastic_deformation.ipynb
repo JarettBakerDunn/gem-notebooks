{
 "cells": [
  {
   "cell_type": "markdown",
   "id": "276b27e3",
   "metadata": {
    "id": "276b27e3"
   },
   "source": [
    "## Viscoelastic deformation\n",
    "\n",
    "A material is considered *elastic* if it goes back to its original shape once the applied force is removed (see figure below). Under elastic deformation, the strains are linearly proportional to the applied stresses.\n",
    "\n",
    "At shallow depths, where both temperatures and pressures are low, rocks dominantly deform elastically. However, if stresses are high, rocks may be deform in a brittle manner at low temperatures and pressures.\n",
    "\n",
    "At greater depth and under high temperature and pressure conditions, the rocks can *flow* and are better described by their viscous behavior. For [Newtonian fluids](https://en.wikipedia.org/wiki/Newtonian_fluid), the strain rate of rocks is proportional to the applied stress.\n",
    "Several geological evidence exist that point to the viscous deformation of the Earth's mantle. Some examples include:\n",
    "\n",
    "1. **Post glacial rebound**: uplift of the Earth's crust in response to the mantle flow underneath as the glacial load is removed.\n",
    "2. **Plate tectonics**: surface experessions such as mountains and basins form as plates move relative to each other over a convecting mantle.\n",
    "3. **Seismic anisotropy**: seismic anisotropy observed in tectonically active regions suggests mantle shearing.\n",
    "4. **Hotspot track**: Hawaiian-Emperor seamount chain formed as the Pacific plate moved over the Hawaiian mantle plume."
   ]
  },
  {
   "cell_type": "markdown",
   "id": "23d30544",
   "metadata": {
    "id": "23d30544"
   },
   "source": [
    "<div>\n",
    "<img src='./images/plate-rebound.png' width=\"500\"/>\n",
    "<figcaption align = \"center\"> Image: Deformation of the Earth's lithosphere during and after a glaciation event. Image modified from Sea Level Rise: A Crash Course for All, Jacqueline Austermann, Columbia University (2023).</figcaption>\n",
    "</div>"
   ]
  },
  {
   "cell_type": "markdown",
   "id": "70b25397",
   "metadata": {
    "id": "70b25397"
   },
   "source": [
    "### Maxwell Model\n",
    "\n",
    "The Earth deforms both elastically and viscously at different time scales:\n",
    "* Elastic deformation occurs instantaneously.\n",
    "* Viscous deformation increases with time.\n",
    "\n",
    "<div>\n",
    "<img src='./images/maxwell-model.png' width=\"700\"/>\n",
    "<figcaption align = \"center\"> Image: Dannberg, J. course on Introduction to Geophysics, University of Florida (Jan 2020).</figcaption>\n",
    "</div>"
   ]
  },
  {
   "cell_type": "markdown",
   "id": "467c2700-7ade-4241-aa43-e61a39b35da5",
   "metadata": {
    "id": "8657efb3"
   },
   "source": [
    "**Maxwell relaxation time**: Maxwell relaxation time is defined as the ratio of Viscosity, $\\eta$, and the Shear modulus, G, and represents how long it takes for stresses in a deformed viscoelastic system to decay to a steady state.\n",
    "\n",
    "\\begin{equation}\n",
    "  t_{maxwell} = \\frac{\\eta}{G}  \\approx \\frac{10^{22} \\text{Pa.s}} {10^{11} Pa} \\approx O(10^3 yrs)\n",
    "\\end{equation}\n",
    "\n",
    "\n",
    "<div style=\"text-align: center;\">\n",
    "<img src='./images/visco-elastic.png' width=\"250\"/>\n",
    "</div>\n"
   ]
  },
  {
   "cell_type": "markdown",
   "id": "74e2cc2d-0ad9-4ae8-a54f-648d762e54f0",
   "metadata": {},
   "source": [
    " &nbsp;<div style=\"text-align: right\">  \n",
    "    &rarr; <b>NEXT: [Bending of lithosphere under line loads](./2_bending_of_lithosphere_under_line_loads.ipynb) </b> <a href=\"\"></a> &nbsp;&nbsp;\n",
    "     <img src=\"../assets/education-gem-notebooks_icon.png\" alt=\"icon\"  style=\"width:4%\">\n",
    "  </div>"
   ]
  }
 ],
 "metadata": {
  "colab": {
   "provenance": []
  },
  "kernelspec": {
   "display_name": "Python 3",
   "language": "python",
   "name": "python3"
  },
  "language_info": {
   "codemirror_mode": {
    "name": "ipython",
    "version": 3
   },
   "file_extension": ".py",
   "mimetype": "text/x-python",
   "name": "python",
   "nbconvert_exporter": "python",
   "pygments_lexer": "ipython3",
   "version": "3.8.5"
  }
 },
 "nbformat": 4,
 "nbformat_minor": 5
}
