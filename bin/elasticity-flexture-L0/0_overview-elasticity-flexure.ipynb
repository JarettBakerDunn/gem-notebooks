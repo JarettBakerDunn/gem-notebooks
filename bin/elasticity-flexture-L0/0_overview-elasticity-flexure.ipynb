{
 "cells": [
  {
   "cell_type": "markdown",
   "id": "c8322869",
   "metadata": {},
   "source": [
    "\n",
    "<p align=\"center\"> <img src=\"assets/cig-logo.png\" alt=\"cig icon\" width=\"30%\"> </p>\n",
    "\n",
    "<p align=\"center\"> <img src=\"assets/education-gem-notebooks_icon.png\" alt=\"icon\" width=\"10%\"> </p>\n",
    "\n",
    "<h1 style=\"text-align: center;\">CIG-GEM Education Notebook</h1>\n",
    "<h1 style=\"text-align: center;\">Elasticity and Flexure Module</h1>\n",
    "\n",
    "<h2 style=\"text-align: center;\">Foundational Level (L0)</h2>\n",
    "\n",
    "<h3 style=\"text-align: center;\">v0.1</h3>\n",
    "<h4 style=\"text-align: center;\"> <small> <i> <b> Author: A. Saxena with contributions from the CIG Education Working Group</h3>\n",
    "\n",
    "[![License: GPLv3](https://img.shields.io/badge/License-GPLv3-blue)](LICENSE)"
   ]
  },
  {
   "cell_type": "markdown",
   "id": "98ed08b6",
   "metadata": {},
   "source": [
    "## Description\n",
    "\n",
    "An introduction to viscoelastic deformation and its application to Glacial Isostatic Adjustment (GIA) and plate bending under applied island loads.\n",
    "\n",
    "## Learning objectives\n",
    "\n",
    "### Scientific\n",
    "Upon completion of this module you would be familiar with:\n",
    "\n",
    "- Viscoelastic deformation\n",
    "- Bending of plates under a line load\n",
    "- Post glacial rebound\n",
    "\n",
    "### Technical\n",
    "Upon completion of this module you will be able to:\n",
    "- Run ASPECT from the command line\n",
    "- Understand the basic layout of model simulation file\n",
    "- Visualize model simulation results\n",
    "- Use Python for writing basic plotting routines\n",
    "\n",
    "## Dependencies\n",
    "- Python (> version 3.3) with the following libraries installed:\n",
    "  * SciPy\n",
    "  * Matplotlib\n",
    "  * NumPy\n",
    "  * PyTables\n",
    "  * glob\n",
    " \n",
    "- ASPECT (> version 2.0) installed locally or using the ASPECT Jupyter notebook on the CIG HUBZero platform [here](https://geodynamics.org/resources/tools)"
   ]
  },
  {
   "cell_type": "markdown",
   "id": "142f1650",
   "metadata": {},
   "source": [
    "# Table of Contents\n",
    "\n",
    "- [Summary](./0_overview-elasticity-flexure.ipynb)\n",
    "\n",
    "- [Viscoelastic deformation](./1_visco_elastic_deformation.ipynb)\n",
    "\n",
    "- [Bending of lithosphere under line loads](./2_bending_of_lithosphere_under_line_loads.ipynb)\n",
    "\n",
    "- [Modeling plate bending](./3_modeling_plate_bending.ipynb)\n",
    "\n",
    "- [Plotting the model simulation results](./4_plotting_the_model_simulation_results.ipynb)"
   ]
  },
  {
   "cell_type": "markdown",
   "id": "a8682ccb-b3db-43c6-b0a6-ab095911afd9",
   "metadata": {},
   "source": [
    "***\n",
    "\n",
    "## References\n",
    "\n",
    "- Jonathan Turner; Turcotte, D. L. & Schubert, G. 2002. Geodynamics, 2nd ed.: xv + 456 pp. Cambridge, New York, Melbourne: Cambridge University Press. doi: https://doi.org/10.1017/S0016756802217239\n",
    "- Dannberg, J. 2020, GLY4450 Geophysics/GLY5455 Introduction to Geophysics [Lecture exercises], University of Florida"
   ]
  },
  {
   "cell_type": "markdown",
   "id": "1fa12e71-6ca8-435b-abc4-1855b103b9a6",
   "metadata": {},
   "source": [
    " &nbsp;<div style=\"text-align: right\">  \n",
    "    &rarr; <b>NEXT: [Viscoelastic deformation](./1_visco_elastic_deformation.ipynb) </b> <a href=\"\"></a> &nbsp;&nbsp;\n",
    "     <img src=\"../assets/education-gem-notebooks_icon.png\" alt=\"icon\"  style=\"width:4%\">\n",
    "  </div>"
   ]
  }
 ],
 "metadata": {
  "kernelspec": {
   "display_name": "Python 3",
   "language": "python",
   "name": "python3"
  },
  "language_info": {
   "codemirror_mode": {
    "name": "ipython",
    "version": 3
   },
   "file_extension": ".py",
   "mimetype": "text/x-python",
   "name": "python",
   "nbconvert_exporter": "python",
   "pygments_lexer": "ipython3",
   "version": "3.8.5"
  }
 },
 "nbformat": 4,
 "nbformat_minor": 5
}
