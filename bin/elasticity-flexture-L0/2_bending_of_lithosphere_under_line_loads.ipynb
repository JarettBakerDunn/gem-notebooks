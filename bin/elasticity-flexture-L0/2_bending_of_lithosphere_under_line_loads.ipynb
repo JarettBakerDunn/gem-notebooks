{
 "cells": [
  {
   "cell_type": "markdown",
   "id": "22dd9d2e",
   "metadata": {
    "id": "22dd9d2e"
   },
   "source": [
    "## Flexure of the lithosphere\n",
    "\n",
    "Under an applied load ($V_a$), the elastic lithosphere deflects by amount $w$ from its undeformed surface following the equation:\n",
    "\n",
    "\\begin{equation}\n",
    "    D\\frac{d^4 w }{d x^4} + P\\frac{d^2 w }{d x^2}= V_a,  \\tag{1}\n",
    "\\end{equation}\n",
    "\n",
    "Here, $P$ represents the horizontal force per unit length applied to the plate in the $z$ direction. $D$ is the flexural rigidity of the plate that determines how easily it can be deformed, $D \\equiv \\frac{Eh^3}{12 (1-\\nu^2)}$, such that $E$ is the Youngs' modulus, $h$ is the plate thickness, and $\\nu$ is its possion's ratio. The coordinate $x$ represents the horizontal distance and the deflection $w$ is measured positive downwards.\n",
    "\n",
    "The above equation assumes that the plate is thin compared to its width and that the deflection is small."
   ]
  },
  {
   "cell_type": "markdown",
   "id": "364134ac",
   "metadata": {
    "id": "364134ac"
   },
   "source": [
    "<div>\n",
    "<img src='./images/plate-bending.png' width=\"600\"/>\n",
    "<figcaption align = \"center\"> Image: Downward deflection of the Earths' lithosphere due to the applied load. </figcaption>\n",
    "</div>"
   ]
  },
  {
   "cell_type": "markdown",
   "id": "4b6699e6",
   "metadata": {
    "id": "4b6699e6"
   },
   "source": [
    "### Bending of lithosphere under the load of island chains\n",
    "\n",
    "The weight of volcanic islands can bend the lithosphere such as observed in the bathymetric profile of the Hawaiian islands:\n",
    "\n",
    "<div>\n",
    "<img src='./images/hawaiian-loads.png' width=\"800\"/>\n",
    "<figcaption align = \"center\"> Image: Bathymetric profiles across Oahu and Hawaii by Dietz and Menard (1953). The overlain red line shows the outer bulge due to the island load.</figcaption>\n",
    "</div>"
   ]
  },
  {
   "cell_type": "markdown",
   "id": "c6ac6603-736c-415e-b2f8-a894094ab6a7",
   "metadata": {},
   "source": [
    "We can now use eq. 2 to solve for the lithospheric flexure under the line load of volcanic islands.\n",
    "In the vertical direction, the net downward force, $V_o$, responsible for the lithospheric bending is reduced by the upward restoring force due to the displaced mantle rock in the water. Following Archimedes' principle, this force per unit area is $(\\rho_m - \\rho_w) w \\mathbf{g}$, i.e., equal to the weight of the displaced mantle rock of thickness $w$ and density $\\rho_m$.\n",
    "\n",
    "We assume that the plate is infinite along its strike direction such that the horizontal force, P, $\\approx$ 0 and the line load $V_a$ is zero except at $x=0$.\n",
    "\n",
    "Eq. 1 now becomes:\n",
    "\n",
    "\\begin{equation}\n",
    "    D\\frac{d^4 w }{d x^4} +  (\\rho_m - \\rho_w) w g = V_o,  \\tag{2}\n",
    "\\end{equation}\n",
    "\n",
    "subject to boundary conditions $w = 0$ as $x\\to \\pm\\infty$, $dw/dx = 0 $ at $x=0$.\n",
    "\n",
    "The bending profile can be given by the solution to eq. 2 as:\n",
    "\n",
    "\\begin{equation}\n",
    "  w (x) = \\frac{V_a \\alpha^3}{8 D} e^{-x/\\alpha} \\left(\\cos \\frac{x}{\\alpha} + \\sin \\frac{x}{\\alpha} \\right) \\quad\n",
    "  x\\geq0, \\tag{3}\n",
    "\\end{equation}\n",
    "\n",
    "where, $\\alpha = \\left[\\frac{4 D}{(\\rho_m - \\rho_w) g}\\right]^{1/4} $ is the *flexural parameter*."
   ]
  },
  {
   "cell_type": "markdown",
   "id": "c8a6fa11",
   "metadata": {
    "id": "c8a6fa11"
   },
   "source": [
    "Additionally,\n",
    "- The maximum amplitude of deflection occurs at $x = 0$ and is $w_o = {V_o \\alpha^3}/8D$.\n",
    "\n",
    "- The crossing $w=0$ occurs at $x=(3/4)\\pi\\alpha$ and separates the depression of the plate from the forebuldge.\n",
    "\n",
    "- The distance from the line load at $x=0$ to the maximum amplitude of the forebuldge, $x_b$, can be determined when the slope of $w(x)$ is zero, i.e., when $x_b = \\pi\\alpha$.\n",
    "\n",
    "- We can use the above computed half-width of the forebuldge and estimate the flexural parameter of the lithospheric plate as:\n",
    "\n",
    "\\begin{equation}\n",
    "    \\alpha = \\frac{4(x_b - x_0)}{\\pi} \\tag 4\n",
    "\\end{equation}"
   ]
  },
  {
   "cell_type": "markdown",
   "id": "e971af86",
   "metadata": {
    "id": "e971af86"
   },
   "source": [
    "#### Computing the elastic thickness of the lithosphere\n",
    "Based on the observed bathmetry profile, $x_b - x_0 \\approx 250 km$ (1 nautical mile = 1.852 km). Taking the following representative values for the Earth's rocks:\n",
    "\n",
    "- $\\rho_m - \\rho_w$ = 2300 $kg/m^3$,\n",
    "- $g = 10 m/s^2$,\n",
    "- $E = 70$ GPa,\n",
    "- $\\nu = 0.25$,\n",
    "\n",
    "we can estimate the thickness of the elastic lithosphere as **h = 34 km**."
   ]
  },
  {
   "cell_type": "markdown",
   "id": "0b1660df",
   "metadata": {
    "id": "0b1660df"
   },
   "source": [
    "### Plotting the bending profile of Hawaiian lithosphere"
   ]
  },
  {
   "cell_type": "code",
   "execution_count": 2,
   "id": "35439831",
   "metadata": {
    "id": "35439831"
   },
   "outputs": [
    {
     "name": "stderr",
     "output_type": "stream",
     "text": [
      "Matplotlib is building the font cache; this may take a moment.\n"
     ]
    }
   ],
   "source": [
    "import numpy as np\n",
    "import matplotlib.pyplot as plt"
   ]
  },
  {
   "cell_type": "code",
   "execution_count": 3,
   "id": "cd385693",
   "metadata": {
    "id": "cd385693"
   },
   "outputs": [],
   "source": [
    "def w_over_w0 (x, alpha = 80e3):\n",
    "    '''\n",
    "        Calculates the plate bending profile of a lithosphere with the flexural parameter, alpha,\n",
    "        under a line load. The default value is computed for the Hawaiian seamount chain shown above.\n",
    "\n",
    "        Input:\n",
    "            x: float or array-like\n",
    "               The distance along the plate from the location at which the line load is applied.\n",
    "\n",
    "        Returns:\n",
    "            float or array\n",
    "               The flexure of the plate from its original shape.\n",
    "    '''\n",
    "    return np.exp(-x/alpha)*(np.cos(x/alpha) + np.sin(x/alpha))"
   ]
  },
  {
   "cell_type": "code",
   "execution_count": 4,
   "id": "d4149eb2",
   "metadata": {
    "id": "d4149eb2",
    "outputId": "a5d3550c-a5b4-4bd6-850f-a8eac534a4e8"
   },
   "outputs": [
    {
     "data": {
      "image/png": "[encoded data removed]",
      "text/plain": [
       "<Figure size 360x288 with 1 Axes>"
      ]
     },
     "metadata": {
      "needs_background": "light"
     },
     "output_type": "display_data"
    }
   ],
   "source": [
    "distance = np.linspace(0, 1000e3, 100)\n",
    "alpha    = 80e3\n",
    "\n",
    "fig, ax  = plt.subplots(figsize=(5, 4))\n",
    "\n",
    "ax.plot(distance, w_over_w0(distance))\n",
    "ax.set_xlabel('Distance from the applied load (m)', fontsize=12)\n",
    "ax.set_ylabel('Fraction of maximum flexure', fontsize=12)\n",
    "ax.grid(True, which='both', linestyle='--', linewidth=0.5, alpha=0.7)\n",
    "ax.set_title('Lithospheric deflection under a line load')\n",
    "\n",
    "# plot the half-wavelength of the forebuldge\n",
    "x0 = (3/4)*np.pi*alpha\n",
    "xb = np.pi*alpha\n",
    "\n",
    "ax.plot(x0, 0, 'r+')\n",
    "ax.annotate('$x_0$', xy= (x0, 0.1) )\n",
    "\n",
    "ax.plot(xb, w_over_w0(xb), 'r+')\n",
    "ax.annotate('$x_b$', xy= (xb, 0.06) )\n",
    "\n",
    "ax.invert_yaxis()"
   ]
  },
  {
   "cell_type": "markdown",
   "id": "65bebb89-2004-46c0-bc86-c0152701d31e",
   "metadata": {},
   "source": [
    "The red markers in the above plot denote the forebulge half-width, which can be used to determine the elastic lithosphere thickness (see above)."
   ]
  },
  {
   "cell_type": "markdown",
   "id": "e74561c7",
   "metadata": {
    "id": "e74561c7"
   },
   "source": [
    "### Bending of lithosphere at ocean trench\n",
    "\n",
    "We can model the bending of the oceanic lithosphere at the trench acted upon the end load $V_0$ and a bending momemt, $M_0$, to get the deflection profile given by:\n",
    "\n",
    "\\begin{equation}\n",
    "    w = \\frac{\\alpha^2 e^{-x/\\alpha}} {2 D} \\left(-M_0 \\sin \\frac{x}{\\alpha} + (V_0\\alpha + M_0) \\cos \\frac{x}{\\alpha} \\right), \\tag5\n",
    "\\end{equation}\n",
    "\n",
    "where, $\\alpha, D$ are the flexural rigidity and the flexural parameter of the plate, respectively, defined above.\n"
   ]
  },
  {
   "cell_type": "markdown",
   "id": "c578bc57-232b-4aea-a76a-13eb7ee7f34a",
   "metadata": {
    "id": "8b9ccbcd"
   },
   "source": [
    "The quantities, $M_0$ and $V_0$, are determined using the height, $w_b$, and the half-width, $x_b-x_0$, of the forebulge.  \n",
    "\n",
    "Upon substituting the values of the forebulge height and half-width, we can rewrite the eq. (5) as:\n",
    "\n",
    "\\begin{equation}\n",
    "    \\frac{w}{w_b} = \\sqrt{2} e^{\\pi/4} \\exp \\left[-\\frac{\\pi}{4} \\left(\\frac{x - x_0}{x_b - x_0} \\right) \\right] \\sin \\left[\\frac{\\pi}{4} \\left(\\frac{x - x_0}{x_b - x_0} \\right) \\right] \\tag6\n",
    "\\end{equation}\n",
    "\n",
    "\n",
    "The observed half-width is the direct measure of the flexural parameter: $x_b-x_0 = (\\pi/4) \\alpha$. This can be used with eq. (6) to approximate the elastic lithosphere thickness by fitting the profile with the observations (see image below):\n",
    "\n",
    "<div>\n",
    "<img src='./images/mariana-trench-fit.png' width=\"600\"/>\n",
    "<figcaption align = \"center\"> Image: Observed bathymetric profile across the Mariana Trench (solid line) and the bending profile computed using eq. (6) with $wb = 0.5 km$ and $x_b - x_0 = 55 km$, from Turcotte and Schubert (2002).</figcaption>\n",
    "</div>\n"
   ]
  },
  {
   "cell_type": "markdown",
   "id": "39d2a849-6f1b-4bf6-bdd5-ba025cea6daf",
   "metadata": {},
   "source": [
    "### Plotting the bending profile of Mariana Trench"
   ]
  },
  {
   "cell_type": "code",
   "execution_count": 4,
   "id": "09e4a79c-0dda-4d73-8a12-e656ba6e4832",
   "metadata": {},
   "outputs": [],
   "source": [
    "def w (x, x0 = 0, half_width = 55e3, wb = 0.5e3):\n",
    "    '''\n",
    "        Calculates the plate bending profile for an elastic lithosphere at an oceanic trench as the \n",
    "        oceanic plate is subducting.\n",
    "\n",
    "        Input:\n",
    "            x         : float or array-like\n",
    "                        The distance along the plate from the location at which the line load is applied.\n",
    "            x0        : float\n",
    "                        The location along the plate where the moment is applied (or where it subducts).\n",
    "            half_width: float \n",
    "                        The half-width of the forebulge in the bending profile.\n",
    "            wb        : float\n",
    "                        The maximum height of the forebulge.\n",
    "\n",
    "        Returns:\n",
    "            float or array\n",
    "               The flexure of the plate relative to its original shape.\n",
    "    '''\n",
    "    return wb*np.sqrt(2)*np.exp(np.pi/4)*np.exp(-np.pi/4*((x - x0)/half_width))*np.sin(np.pi/4*((x - x0)/half_width))"
   ]
  },
  {
   "cell_type": "code",
   "execution_count": 5,
   "id": "5ee56db6-dc13-476e-954d-7cef9e49b9fb",
   "metadata": {},
   "outputs": [
    {
     "data": {
      "text/plain": [
       "(-5.0, 1.0)"
      ]
     },
     "execution_count": 5,
     "metadata": {},
     "output_type": "execute_result"
    },
    {
     "data": {
      "image/png": "[encoded data removed]",
      "text/plain": [
       "<Figure size 360x288 with 1 Axes>"
      ]
     },
     "metadata": {
      "needs_background": "light"
     },
     "output_type": "display_data"
    }
   ],
   "source": [
    "distance = np.linspace(-100e3, 300e3, 100)\n",
    "fig, ax  = plt.subplots(figsize=(5, 4))\n",
    "\n",
    "ax.plot(distance/1e3, w(distance)/1e3)\n",
    "ax.set_xlabel('Distance along the plate (km)', fontsize=12)\n",
    "ax.set_ylabel('Flexure of the plate (km)', fontsize=12)\n",
    "ax.grid(True, which='both', linestyle='--', linewidth=0.5, alpha=0.7)\n",
    "ax.set_title('Lithospheric deflection under an end load')\n",
    "ax.set_ylim([-5, 1])"
   ]
  },
  {
   "cell_type": "markdown",
   "id": "504c80e7-234e-47ea-9e5d-6ceb3f77c184",
   "metadata": {},
   "source": [
    "### Further reading\n",
    "For more details and derivation of the equations, see *Geodynamics* by Turcotte and Schubert (2002)."
   ]
  },
  {
   "cell_type": "markdown",
   "id": "54d55752-4dbc-46f7-97bf-0283cd012629",
   "metadata": {},
   "source": [
    "  &nbsp;<div style=\"text-align: right\">  \n",
    "    &rarr; <b>NEXT: [Modeling plate bending](./3_modeling_plate_bending.ipynb) </b> <a href=\"\"></a> &nbsp;&nbsp;\n",
    "     <img src=\"../assets/education-gem-notebooks_icon.png\" alt=\"icon\"  style=\"width:4%\">\n",
    "  </div>"
   ]
  },
  {
   "cell_type": "code",
   "execution_count": null,
   "id": "c653fffc-5338-49fc-88f9-c32ef00632fd",
   "metadata": {},
   "outputs": [],
   "source": []
  }
 ],
 "metadata": {
  "colab": {
   "provenance": [],
   "toc_visible": true
  },
  "kernelspec": {
   "display_name": "Python 3",
   "language": "python",
   "name": "python3"
  },
  "language_info": {
   "codemirror_mode": {
    "name": "ipython",
    "version": 3
   },
   "file_extension": ".py",
   "mimetype": "text/x-python",
   "name": "python",
   "nbconvert_exporter": "python",
   "pygments_lexer": "ipython3",
   "version": "3.8.5"
  }
 },
 "nbformat": 4,
 "nbformat_minor": 5
}
