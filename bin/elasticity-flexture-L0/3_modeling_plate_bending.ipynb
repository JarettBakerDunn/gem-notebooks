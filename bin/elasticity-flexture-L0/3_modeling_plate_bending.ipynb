{
 "cells": [
  {
   "cell_type": "markdown",
   "id": "10a36fd3",
   "metadata": {
    "tags": []
   },
   "source": [
    "## The .prm file—post glacial rebound model\n",
    "\n",
    "For this model, you will need the parameter file, `'postglacial_rebound.prm'`, which is available in the current directory. This input file simulates the how an elastic lithosphere deforms under the applied ice sheet loads and the rebound of the viscous asthenosphere as the load is removed.\n",
    "\n",
    "<div class=\"alert alert-block alert-info\">\n",
    "<b>NOTE:</b> The parameter names and their values are case-sensitive. This means that using `Function` instead of `function` will throw an error in ASPECT.\n",
    "</div>\n",
    "\n",
    "ASPECT uses SI units: meter, kg, seconds/years."
   ]
  },
  {
   "cell_type": "markdown",
   "id": "5e7ad482-4e9e-446c-b87b-422ae326d6ac",
   "metadata": {
    "tags": []
   },
   "source": [
    "### Global Parameters\n",
    "In both input .prm files, we use a lower CFL number (`0.001`) than the default value of 1. The lower CFL number ensures that the variations in the modeled velocities are not too big, leading to a stable solution.\n",
    "```\n",
    "# Global parameters\n",
    "set Start time                             = 0\n",
    "set End time                               = 100000\n",
    "set Use years in output instead of seconds = true\n",
    "set CFL number                             = 0.001\n",
    "```\n",
    "\n",
    "### Model Geometry\n",
    "We simulate the problem in a box with dimensions $6000 \\times 400$ km. \n",
    "```\n",
    "subsection Geometry model\n",
    "  set Model name = box\n",
    "\n",
    "  subsection Box\n",
    "    set X repetitions = 2\n",
    "    set Y repetitions = 1\n",
    "    set X extent      = 6000000\n",
    "    set Y extent      = 400000\n",
    "  end\n",
    "end\n",
    "```"
   ]
  },
  {
   "cell_type": "markdown",
   "id": "649c33b6-6ce5-4bb3-b9ae-32971d5fbc11",
   "metadata": {},
   "source": [
    "### Simulating elastic lithosphere\n",
    "The elastic rheology in ASPECT requires compositional fields corresponding to the unique stress terms in the viscoelastic stress tensor, e.g., `ve_stress_xx` represents the normal stress component in the x direction. Besides the stress components, we also have the `lithosphere` compositional field which deforms elastically under the applied stress.\n",
    "``` \n",
    "subsection Compositional fields\n",
    "  set Number of fields = 4\n",
    "  set Names of fields  = ve_stress_xx, ve_stress_yy, ve_stress_xy, lithosphere\n",
    "end\n",
    "```\n",
    "\n",
    "We define the lithospheric composition using a hyperbolic tangent function such the transition between the lithosphere and the lithospheric mantle is smooth, and the resultant lithosphere is 80 km thick with 10 km of transitional thickness.\n",
    "```\n",
    "subsection Initial composition model\n",
    "  set Model name = function\n",
    "  subsection Function\n",
    "    set Variable names      = x,y\n",
    "    set Function constants  = \n",
    "    set Function expression = 0; 0; 0; 0.5+0.5*tanh((y-320000)/10000)\n",
    "  end\n",
    "end\n",
    "```"
   ]
  },
  {
   "cell_type": "markdown",
   "id": "b0433b29-bcd1-42a1-a7f2-0db34791898f",
   "metadata": {},
   "source": [
    "### Applied traction to represent the line load\n",
    "We allow the top model surface to deform freely in response to the applied load. these loads are defined using the `Boundary traction model`, which specifies a Gaussian-shaped traction centered on the model domain for the the first 90k years of the model run. The peak amplitude of the traction corresponds to the stress exerted by an ice sheet with a maximum thickness of 3 km. A negative sign indicates that the traction acts downward—compressing the top boundary—in contrast to an outward or upward-directed force.\n",
    "\n",
    "```\n",
    "subsection Mesh deformation\n",
    "  set Mesh deformation boundary indicators        = top: free surface\n",
    "  set Additional tangential mesh velocity boundary indicators = left, right\n",
    "  subsection Free surface\n",
    "    set Surface velocity projection = vertical\n",
    "    set Free surface stabilization theta = 0.75\n",
    "  end\n",
    "end\n",
    "\n",
    "\n",
    "subsection Boundary traction model\n",
    "  set Prescribed traction boundary indicators = top:function\n",
    "  subsection Function\n",
    "    set Variable names      = x,y,t\n",
    "    set Function constants  = d=3000,l=1e6,rho=1000,g=10, x0=3e6\n",
    "    set Function expression = 0; if(t<90000,-rho*g*d*exp(-(x-x0)^2/(2*l*l)),0)\n",
    "  end\n",
    "end\n",
    "```\n"
   ]
  },
  {
   "cell_type": "markdown",
   "id": "86a767cd-a581-4fa9-b701-55101250bf65",
   "metadata": {},
   "source": [
    "### Discretization\n",
    "We use discontinous elements in compositional fields to avoid any oscillations as the lithosphere deforms over time. We also limit the compositional values such that they are within the expected physical bounds. \n",
    "\n",
    "```\n",
    "subsection Discretization\n",
    "  set Composition polynomial degree           = 2\n",
    "  set Temperature polynomial degree           = 1\n",
    "  set Use discontinuous temperature discretization = false\n",
    "  set Use discontinuous composition discretization = true\n",
    "  subsection Stabilization parameters\n",
    "      set Use limiter for discontinuous composition solution = true\n",
    "      set Global composition maximum =  1.e11,  1.e11,  1.e11, 1.0\n",
    "      set Global composition minimum = -1.e11, -1.e11, -1.e11, 0.0\n",
    "  end\n",
    "end\n",
    "```"
   ]
  },
  {
   "cell_type": "markdown",
   "id": "6f663415-aeff-4880-9264-4d5c3a948ddd",
   "metadata": {},
   "source": [
    "###  Material model \n",
    "\n",
    "To include elasticity, we need to use elastic terms in the right hand side of the momentum equation using the `Formulation` subsection.\n",
    "```\n",
    "subsection Formulation\n",
    "  set Enable elasticity = true\n",
    "end\n",
    "```\n",
    "\n",
    "Our model is viscoelastic such that the lithosphere deforms elastically, i.e., has a lower elastic shear modulus of 70e9, while the lithospheric mantle responds by flowing viscously around it, governed by the low viscosity of 5e19 Pa-s. \n",
    "```\n",
    "subsection Material model\n",
    "\n",
    "  set Model name = viscoelastic\n",
    "\n",
    "  subsection Viscoelastic\n",
    "    set Densities            = 3300\n",
    "    set Viscosities          = 5.e19, 1.e24, 1.e24, 1.e24, 1.e24\n",
    "    set Elastic shear moduli = 1.e12, 1.e12, 1.e12, 1.e12, 70.e9\n",
    "    set Fixed elastic time step     = 1e3\n",
    "    set Use fixed elastic time step = false\n",
    "    set Viscosity averaging scheme  = maximum composition\n",
    "    set Thermal expansivities = 0\n",
    "  end\n",
    "\n",
    "end\n",
    "```\n"
   ]
  },
  {
   "cell_type": "markdown",
   "id": "9112d67f-6575-4eb4-a10b-17f310d3963d",
   "metadata": {},
   "source": [
    "## The .prm file—ocean island loading model\n",
    "\n",
    "For this model, you will need the parameter file, `'ocean_island_loading.prm'`, which is available in the current directory. This input file simulates the how an elastic lithosphere deforms under the weight of the oceanic islands.\n",
    "\n",
    "The .prm files have similar structure as the `postglacial_rebound.prm` problem, therefore for this model, we will only look at the sections specific to defining this problem."
   ]
  },
  {
   "cell_type": "markdown",
   "id": "7cfecb8b-6ab0-4708-9cf8-29e48e95168e",
   "metadata": {},
   "source": [
    "### Defining the oceanic lithosphere\n",
    "\n",
    "Similar to above, we use a hyperbolic tangent function to define the lithosphere with a transition thickness of 10 km to the lithospheric mantle. We approximate the oceanic lithosphere of 34 km thickness using this function.\n",
    "\n",
    "```\n",
    "subsection Initial composition model\n",
    "  set Model name = function\n",
    "  subsection Function\n",
    "    set Variable names      = x,y\n",
    "    set Function constants  = y0=400000, lithosphere_thickness=34000\n",
    "    set Function expression = 0; 0; 0; 0.5+0.5*tanh((y-y0+lithosphere_thickness)/10000)\n",
    "  end\n",
    "end\n",
    "```"
   ]
  },
  {
   "cell_type": "markdown",
   "id": "a8efac13-e2b7-4b5d-b7a5-460c02108b43",
   "metadata": {},
   "source": [
    "### Approximating the applied oceanic island load\n",
    "We approximate the oceanic island load using aGgausssian function such that the maximum applitude corresponds to an 8 km high basalt submerged in water. Contrary to the post-glacial rebound model, the applied load is constant over time.\n",
    "\n",
    "```\n",
    "subsection Boundary traction model\n",
    "  set Prescribed traction boundary indicators = top:function\n",
    "  subsection Function\n",
    "    set Variable names      = x,y,t\n",
    "    set Function constants  = d=8000,l=2.5e4,rho=2300,g=10, x0=4e5\n",
    "    set Function expression = 0; -rho*g*d*exp(-(x-x0)^2/(2*l*l))\n",
    "  end\n",
    "end\n",
    "```"
   ]
  },
  {
   "cell_type": "markdown",
   "id": "9a52d9cd-a150-47ab-8c16-cb2cb3347de9",
   "metadata": {},
   "source": [
    " &nbsp;<div style=\"text-align: right\">  \n",
    "    &rarr; <b>NEXT: [Plotting the model simulation results](./4_plotting_the_model_simulation_results.ipynb) </b> <a href=\"\"></a> &nbsp;&nbsp;\n",
    "     <img src=\"../assets/education-gem-notebooks_icon.png\" alt=\"icon\"  style=\"width:4%\">\n",
    "  </div>"
   ]
  }
 ],
 "metadata": {
  "kernelspec": {
   "display_name": "Python 3",
   "language": "python",
   "name": "python3"
  },
  "language_info": {
   "codemirror_mode": {
    "name": "ipython",
    "version": 3
   },
   "file_extension": ".py",
   "mimetype": "text/x-python",
   "name": "python",
   "nbconvert_exporter": "python",
   "pygments_lexer": "ipython3",
   "version": "3.8.5"
  }
 },
 "nbformat": 4,
 "nbformat_minor": 5
}
