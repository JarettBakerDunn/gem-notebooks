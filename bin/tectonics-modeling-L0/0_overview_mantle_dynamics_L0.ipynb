{
 "cells": [
  {
   "cell_type": "markdown",
   "id": "bfec1c83-9384-4796-902c-d750d13f348b",
   "metadata": {},
   "source": [
    "<br>\n",
    "\n",
    "\n",
    "<table style=\"width: 70%; border-collapse: collapse; border: none; margin-left:60px\">\n",
    "  <tr>\n",
    "    <td style=\"width: 20%\" align=\"center\"> <img src=\"../assets/education-gem-notebooks_icon.png\" alt=\"icon\"  width=\"80%\" ></td>\n",
    "    <td> <h1 style=\"text-align: center;\">CIG-GEM Education Notebook</h1>   \n",
    "         <h1 style=\"text-align: center;\">Basics of Mantle Dynamics</h1>\n",
    "         <h2 style=\"text-align: center;\">Foundational Level (L0)</h2>        \n",
    "         <h3 style=\"text-align: center;\">v0.1</h3>  </td>                        \n",
    "  </tr>\n",
    "</table>\n",
    "\n",
    "\n",
    "<h4 style=\"margin-left:20px\"><i> Authors: Jarett Baker-Dunn and Arushi Saxena with contributions from the CIG Education Working Group</h4>\n",
    "<br>\n",
    "<img src=\"../assets/cig-logo.png\" alt=\"cig icon\" width=\"10%\">\n",
    "\n",
    "[![License: GPLv3](https://img.shields.io/badge/License-GPLv3-blue)](LICENSE)\n",
    "\n",
    "***\n",
    "------------------------------"
   ]
  },
  {
   "cell_type": "markdown",
   "id": "4fafd930-00d8-4fad-8a64-5ade7bd97a40",
   "metadata": {
    "tags": []
   },
   "source": [
    "## Description\n",
    "\n",
    "This module uses a community software ASPECT to describe the dominant mechanisms of heat transport inside the Earth's mantle—conduction and convection.\n",
    "\n",
    "## Learning Objectives\n",
    "\n",
    "###  Scientific\n",
    "Upon completion of this module, you should be familiar with:\n",
    "  * convection and conduction heat transport, and how the values of dimensionless numbers—Rayleigh number and Nusselt number—govern these transport mechanisms in the Earth's mantle.\n",
    "\n",
    "### Technical\n",
    "Upon completion of this module you should:\n",
    "  * be able to run ASPECT from the command line,\n",
    "  * understand the basic layout of model simulation file,\n",
    "  * be able to visualize simulation results\n",
    "  \n",
    "\n",
    "## Prerequisites\n",
    "\n",
    "This module does requires some basic knowledge of scientific computing and analysis, along with fundamentals of heat transport mechanisms inside the Earth."
   ]
  },
  {
   "cell_type": "markdown",
   "id": "8c42746c",
   "metadata": {},
   "source": [
    "## Table of Contents\n",
    " * [ASPECT and how to use it](./1_ASPECT_philosophy.ipynb)\n",
    " * [Understanding the simulation file](./)\n",
    " * [Running and visualizing the model]()\n",
    " * [Rayleigh and Nusselt number]()"
   ]
  },
  {
   "cell_type": "markdown",
   "id": "61b819f4",
   "metadata": {},
   "source": [
    "***\n",
    "## Acknowledgements\n",
    "\n",
    "Course materials are based on the tectonics modeling workshop 2020 led by ASPECT developers—Wolfgang Bangerth,\n",
    "Juliane Dannberg, Menno Fraters, Rene Gassmoeller, Anne Glerum, Timo Heister, Bob Myhill, John Naliboff, and\n",
    "Cedric Thieulot. The slides and the material are available in the [github repository](https://github.com/gassmoeller/aspect-tutorials)."
   ]
  },
  {
   "cell_type": "markdown",
   "id": "7514e076-9e80-4bf3-96a9-eea784624584",
   "metadata": {},
   "source": [
    " &nbsp;<div style=\"text-align: right\">  \n",
    "    &rarr; <b>NEXT: [Running the model](./1_running_ASPECT.ipynb) </b> <a href=\"\"></a> &nbsp;&nbsp;\n",
    "     <img src=\"../assets/education-gem-notebooks_icon.png\" alt=\"icon\"  style=\"width:4%\">\n",
    "  </div>"
   ]
  }
 ],
 "metadata": {
  "kernelspec": {
   "display_name": "Python 3 (ipykernel)",
   "language": "python",
   "name": "python3"
  },
  "language_info": {
   "codemirror_mode": {
    "name": "ipython",
    "version": 3
   },
   "file_extension": ".py",
   "mimetype": "text/x-python",
   "name": "python",
   "nbconvert_exporter": "python",
   "pygments_lexer": "ipython3",
   "version": "3.11.5"
  }
 },
 "nbformat": 4,
 "nbformat_minor": 5
}
