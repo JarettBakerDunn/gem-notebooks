{
 "cells": [
  {
   "cell_type": "code",
   "execution_count": null,
   "id": "ce18e06b",
   "metadata": {},
   "outputs": [],
   "source": [
    "import matplotlib.pyplot as plt\n",
    "from matplotlib.colors import ListedColormap\n",
    "import numpy as np\n",
    "import pyvista as pv\n",
    "import os\n"
   ]
  },
  {
   "cell_type": "code",
   "execution_count": null,
   "id": "1f2a5ae6",
   "metadata": {},
   "outputs": [],
   "source": [
    "#   Time step: initial and final values of the output file numbers\n",
    "#   to traverse in this visualization\n",
    "out_n_min = 0\n",
    "out_n_max = 49\n",
    "#   make a directory to hold the images used in the animation, use the existing directory if there is one\n",
    "os.makedirs(\"./plots\", exist_ok=True)  \n",
    "\n",
    "#   Read in the time values associated with the solution output files.\n",
    "#   More documentation about pyvista Time Reader at:\n",
    "#   https://docs.pyvista.org/version/stable/api/readers/_autosummary/pyvista.timereader\n",
    "\n",
    "#   This example uses the convection 2D box cookbook, you will need to change this string\n",
    "#   to reflect the correct output directory when working with different .prm files.\n",
    "timereader = pv.get_reader(\"output-convection-box/solution.pvd\")\n",
    "times = np.array(timereader.time_values)\n"
   ]
  },
  {
   "cell_type": "code",
   "execution_count": 3,
   "id": "718bebb2",
   "metadata": {},
   "outputs": [
    {
     "name": "stdout",
     "output_type": "stream",
     "text": [
      "timestep number: 0 time = 0.0\n",
      "timestep number: 1 time = 1.23369416081e-08\n",
      "timestep number: 2 time = 2.04704135901e-08\n",
      "timestep number: 3 time = 3.02154760278e-08\n",
      "timestep number: 4 time = 4.0448446723300005e-08\n",
      "timestep number: 5 time = 5.0584757252500003e-08\n",
      "timestep number: 6 time = 6.002690510750001e-08\n",
      "timestep number: 7 time = 7.00827075285e-08\n",
      "timestep number: 8 time = 8.00198930933e-08\n",
      "timestep number: 9 time = 9.03567786156e-08\n",
      "timestep number: 10 time = 1.00435338258e-07\n",
      "timestep number: 11 time = 1.10023626241e-07\n",
      "timestep number: 12 time = 1.20110860141e-07\n",
      "timestep number: 13 time = 1.30373278079e-07\n",
      "timestep number: 14 time = 1.4039501146499999e-07\n",
      "timestep number: 15 time = 1.50358822792e-07\n",
      "timestep number: 16 time = 1.60219872663e-07\n",
      "timestep number: 17 time = 1.7009197079800002e-07\n",
      "timestep number: 18 time = 1.80013986623e-07\n",
      "timestep number: 19 time = 1.90388949784e-07\n",
      "timestep number: 20 time = 2.00289375319e-07\n",
      "timestep number: 21 time = 2.10186204652e-07\n",
      "timestep number: 22 time = 2.20093333872e-07\n",
      "timestep number: 23 time = 2.3000374184799998e-07\n",
      "timestep number: 24 time = 2.4035997427299996e-07\n"
     ]
    },
    {
     "name": "stderr",
     "output_type": "stream",
     "text": [
      "Context leak detected, msgtracer returned -1\n"
     ]
    },
    {
     "name": "stdout",
     "output_type": "stream",
     "text": [
      "timestep number: 25 time = 2.5026383117899997e-07\n",
      "timestep number: 26 time = 2.6016948083e-07\n",
      "timestep number: 27 time = 2.7007634369e-07\n",
      "timestep number: 28 time = 2.8043280641e-07\n",
      "timestep number: 29 time = 2.90338329492e-07\n",
      "timestep number: 30 time = 3.0024408791099997e-07\n",
      "timestep number: 31 time = 3.10150181809e-07\n",
      "timestep number: 32 time = 3.2005621622000003e-07\n",
      "timestep number: 33 time = 3.30412348657e-07\n",
      "timestep number: 34 time = 3.40318221714e-07\n",
      "timestep number: 35 time = 3.50224173018e-07\n",
      "timestep number: 36 time = 3.60130131518e-07\n"
     ]
    },
    {
     "name": "stderr",
     "output_type": "stream",
     "text": [
      "Context leak detected, msgtracer returned -1\n"
     ]
    },
    {
     "name": "stdout",
     "output_type": "stream",
     "text": [
      "timestep number: 37 time = 3.70036054224e-07\n",
      "timestep number: 38 time = 3.80392237243e-07\n",
      "timestep number: 39 time = 3.902981673e-07\n",
      "timestep number: 40 time = 4.0020410310400003e-07\n",
      "timestep number: 41 time = 4.1011003236299996e-07\n",
      "timestep number: 42 time = 4.20015957946e-07\n",
      "timestep number: 43 time = 4.3037215557399997e-07\n",
      "timestep number: 44 time = 4.40278085773e-07\n",
      "timestep number: 45 time = 4.50184015032e-07\n",
      "timestep number: 46 time = 4.6008994323699997e-07\n",
      "timestep number: 47 time = 4.70446141212e-07\n",
      "timestep number: 48 time = 4.80352070285e-07\n",
      "timestep number: 49 time = 4.90257999267e-07\n"
     ]
    },
    {
     "name": "stderr",
     "output_type": "stream",
     "text": [
      "Context leak detected, msgtracer returned -1\n"
     ]
    }
   ],
   "source": [
    "#   Loop through the solution output files\n",
    "for ts in range(out_n_min, out_n_max + 1):\n",
    "    print(\"timestep number:\", ts, \"time =\", times[ts])\n",
    "    #   Read data from the pvtu file into a variable named mesh, which contains\n",
    "    #   all information needed for the plot.\n",
    "    num_str = str(ts).zfill(5)\n",
    "    mesh = pv.read(\"output-convection-box/solution/solution-\" + num_str + \".pvtu\")\n",
    "    plot_spatial_bounds = [0, 1, 0, 1, 0, 0]\n",
    "    mesh = mesh.clip_box(bounds=plot_spatial_bounds, invert=False)\n",
    "    pv.set_plot_theme(\"document\")\n",
    "    plotter = pv.Plotter(off_screen=True)\n",
    "\n",
    "\n",
    "    # Define properties for the scalar bar arguments\n",
    "    sargs = dict(\n",
    "        width=0.6,\n",
    "        fmt=\"%.1e\",\n",
    "        height=0.2,\n",
    "        title=\"T\",\n",
    "        label_font_size=24,\n",
    "        title_font_size=32,\n",
    "        color=\"white\",\n",
    "        position_x=0.2,\n",
    "        position_y=0.01,\n",
    "    )\n",
    "\n",
    "    # Visualize the Temperature 'T' field on the current plotter\n",
    "    plotter.add_mesh(mesh, scalars=\"T\", log_scale=False, scalar_bar_args=sargs,cmap=\"RdBu\")\n",
    "\n",
    "    # Set various properties of the plot\n",
    "    plotter.view_xy()\n",
    "    plotter.enable_depth_peeling(10)\n",
    "\n",
    "    # Calculate Camera Position from Bounds\n",
    "    ###\n",
    "    bounds_array = np.array(plot_spatial_bounds)\n",
    "    xmag = float(abs(bounds_array[1] - bounds_array[0]))\n",
    "    ymag = float(abs(bounds_array[3] - bounds_array[2]))\n",
    "    aspect_ratio = ymag / xmag\n",
    "    plotter.window_size = (1024, int(1024 * aspect_ratio))\n",
    "    xmid = xmag / 2 + bounds_array[0]  # X midpoint\n",
    "    ymid = ymag / 2 + bounds_array[2]  # Y midpoint\n",
    "    zoom = xmag * aspect_ratio * 1.875  # Zoom level - not sure why 1.875 works\n",
    "\n",
    "    position = (xmid, ymid, zoom)\n",
    "    focal_point = (xmid, ymid, 0)\n",
    "    viewup = (0, 1, 0)\n",
    "    camera = [position, focal_point, viewup]\n",
    "    plotter.camera_position = camera\n",
    "    plotter.camera_set = True\n",
    "    ###\n",
    "\n",
    "    # Create the image via a screenshot\n",
    "    img = plotter.screenshot(transparent_background=True, return_img=True)\n",
    "\n",
    "    # Create the plot axis\n",
    "    ax = plt.gca()\n",
    "\n",
    "    # Plot the image with imshow\n",
    "    ax.imshow(img, aspect=\"equal\", extent=plot_spatial_bounds)\n",
    "    plt.tight_layout()\n",
    "\n",
    "    # Save the python plot\n",
    "    plt.savefig(\"plots/\"+num_str+\".png\")\n",
    "\n",
    "    # Close the figure\n",
    "    plt.close()\n",
    "\n"
   ]
  },
  {
   "cell_type": "code",
   "execution_count": null,
   "id": "e64d07d1",
   "metadata": {},
   "outputs": [
    {
     "name": "stdout",
     "output_type": "stream",
     "text": [
      "24\n"
     ]
    },
    {
     "data": {
      "application/vnd.jupyter.widget-view+json": {
       "model_id": "8424b0b1be564ff5b0a712610027caef",
       "version_major": 2,
       "version_minor": 0
      },
      "text/plain": [
       "Widget(value='<iframe src=\"http://localhost:50215/index.html?ui=P_0x30cf858b0_50&reconnect=auto\" class=\"pyvist…"
      ]
     },
     "metadata": {},
     "output_type": "display_data"
    },
    {
     "name": "stdout",
     "output_type": "stream",
     "text": [
      "12\n",
      "0\n",
      "1\n",
      "5\n",
      "8\n",
      "25\n"
     ]
    }
   ],
   "source": [
    "#   This cell renders the animation with the slider, a lot of it is the same as \n",
    "#   the previous block which renders all of the separate images.\n",
    "#   The main difference is the callback function 'load_mesh_from_time' which reads the time value from the slider\n",
    "#   and loads the mesh corresponding to that time.\n",
    "pv.set_plot_theme(\"document\")\n",
    "plotter = pv.Plotter(off_screen=True)\n",
    "num_str = str(0).zfill(5)\n",
    "mesh = pv.read(\"output-convection-box/solution/solution-\" + num_str + \".pvtu\")\n",
    "\n",
    "# Define properties for the scalar bar arguments\n",
    "sargs = dict(\n",
    "    width=0.6,\n",
    "    fmt=\"%.1e\",\n",
    "    height=0.2,\n",
    "    title=\"T\",\n",
    "    label_font_size=24,\n",
    "    title_font_size=32,\n",
    "    color=\"white\",\n",
    "    position_x=0.2,\n",
    "    position_y=0.01,\n",
    ")\n",
    "\n",
    "# Visualize the Temperature field on the current plotter\n",
    "plotter.add_mesh(mesh, scalars=\"T\", log_scale=False, scalar_bar_args=sargs,cmap=\"RdBu\")\n",
    "\n",
    "# Set various properties of the plot\n",
    "plotter.view_xy()\n",
    "plotter.enable_depth_peeling(10)\n",
    "\n",
    "# Calculate Camera Position from Bounds\n",
    "###\n",
    "bounds_array = np.array(plot_spatial_bounds)\n",
    "xmag = float(abs(bounds_array[1] - bounds_array[0]))\n",
    "ymag = float(abs(bounds_array[3] - bounds_array[2]))\n",
    "aspect_ratio = ymag / xmag\n",
    "plotter.window_size = (512, int(512 * aspect_ratio))\n",
    "xmid = xmag / 2 + bounds_array[0]  # X midpoint\n",
    "ymid = ymag / 2 + bounds_array[2]  # Y midpoint\n",
    "zoom = xmag * aspect_ratio * 1.875  # Zoom level - not sure why 1.875 works\n",
    "\n",
    "position = (xmid, ymid, zoom)\n",
    "focal_point = (xmid, ymid, 0)\n",
    "viewup = (0, 1, 0)\n",
    "camera = [position, focal_point, viewup]\n",
    "plotter.camera_position = camera\n",
    "plotter.camera_set = True\n",
    "\n",
    "def load_mesh_from_time(value):\n",
    "    num_str = str(int(value)).zfill(5)\n",
    "    mesh = pv.read(\"output-convection-box/solution/solution-\" + num_str + \".pvtu\")\n",
    "    plotter.add_mesh(mesh, scalars=\"T\", log_scale=False, scalar_bar_args=sargs,cmap=\"RdBu\")\n",
    "    print(int(value))\n",
    "\n",
    "plotter.add_slider_widget(load_mesh_from_time, [0, out_n_max], title=\"Time\")\n",
    "plotter.show()\n"
   ]
  }
 ],
 "metadata": {
  "kernelspec": {
   "display_name": "base",
   "language": "python",
   "name": "python3"
  },
  "language_info": {
   "codemirror_mode": {
    "name": "ipython",
    "version": 3
   },
   "file_extension": ".py",
   "mimetype": "text/x-python",
   "name": "python",
   "nbconvert_exporter": "python",
   "pygments_lexer": "ipython3",
   "version": "3.12.4"
  }
 },
 "nbformat": 4,
 "nbformat_minor": 5
}
